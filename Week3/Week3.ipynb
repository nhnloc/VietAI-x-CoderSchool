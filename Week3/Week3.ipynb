{
 "cells": [
  {
   "cell_type": "markdown",
   "id": "82d12dc0",
   "metadata": {},
   "source": [
    "# Import "
   ]
  },
  {
   "cell_type": "code",
   "execution_count": 1,
   "id": "43026d40",
   "metadata": {},
   "outputs": [],
   "source": [
    "import gensim.downloader as api\n",
    "import numpy as np"
   ]
  },
  {
   "cell_type": "code",
   "execution_count": 4,
   "id": "f0ca5623",
   "metadata": {},
   "outputs": [
    {
     "name": "stdout",
     "output_type": "stream",
     "text": [
      "[==================================================] 100.0% 199.5/199.5MB downloaded\n",
      "[-6.4862e-01 -7.2943e-01  6.8938e-01  8.0913e-01  7.0819e-02 -1.2213e-01\n",
      "  1.6231e+00 -1.8273e-01 -1.2289e+00  5.9429e-02 -1.0436e+00  1.2083e-01\n",
      " -4.4898e+00 -3.5750e-01 -3.5122e-01  2.8184e-01  1.1997e-01  2.2602e-02\n",
      " -3.8894e-01  4.2605e-01  4.5974e-01 -8.8778e-01 -5.8235e-01  1.0916e-01\n",
      "  7.5807e-02  8.2031e-01 -7.7603e-01  5.0443e-01  1.1180e+00 -3.9499e-01\n",
      " -7.1192e-01 -1.5997e-01  3.8877e-01  1.1124e-03  4.6685e-01  2.1218e-01\n",
      "  1.9705e-01  2.5828e-01 -1.2860e-01  2.1203e-01 -1.4966e+00 -1.0162e+00\n",
      "  4.1185e-01  8.3209e-01 -7.3911e-01  3.2497e-01  7.9778e-01 -2.0234e-01\n",
      " -5.5853e-01 -3.2284e-02]\n"
     ]
    }
   ],
   "source": [
    "# 25, 50, 100 or 200. Số càng lớn thì càng chính xác, nhưng chạy càng lâu các bạn nhé\n",
    "model = api.load(\"glove-twitter-50\")\n",
    "word = \"beautiful\"\n",
    "print(model[word])"
   ]
  },
  {
   "cell_type": "markdown",
   "id": "1831d560",
   "metadata": {},
   "source": [
    "# Section 1 for word2vec"
   ]
  },
  {
   "cell_type": "code",
   "execution_count": 5,
   "id": "209b3dc4",
   "metadata": {},
   "outputs": [
    {
     "name": "stdout",
     "output_type": "stream",
     "text": [
      "1----------\n",
      "[('gorgeous', 0.9245980381965637), ('lovely', 0.9044452905654907), ('amazing', 0.8897181153297424), ('wonderful', 0.8871689438819885), ('pretty', 0.8808602094650269), ('fabulous', 0.8739014267921448), ('love', 0.8557703495025635), ('perfect', 0.8545977473258972), ('nice', 0.8446031808853149), ('beauty', 0.8436192870140076)]\n"
     ]
    }
   ],
   "source": [
    "print(\"1----------\")\n",
    "result = model.most_similar(word, topn=10)\n",
    "print(result)"
   ]
  },
  {
   "cell_type": "markdown",
   "id": "b2bb52cb",
   "metadata": {},
   "source": [
    "# Section 2 for word2vec"
   ]
  },
  {
   "cell_type": "code",
   "execution_count": 9,
   "id": "470049ec",
   "metadata": {},
   "outputs": [
    {
     "name": "stdout",
     "output_type": "stream",
     "text": [
      "2----------\n",
      "[('october', 0.9570533037185669), ('august', 0.9502835273742676), ('june', 0.9488087892532349), ('march', 0.9447518587112427), ('december', 0.9338072538375854), ('july', 0.9182708263397217), ('november', 0.911818265914917), ('september', 0.8861153721809387), ('april', 0.8748382329940796), ('feb.', 0.8494142889976501)]\n"
     ]
    }
   ],
   "source": [
    "print(\"2----------\")\n",
    "result = model.most_similar(positive=[\"january\", \"february\"], topn=10)\n",
    "print(result)"
   ]
  },
  {
   "cell_type": "markdown",
   "id": "e0f0dccf",
   "metadata": {},
   "source": [
    "# Section 3 for word2vec"
   ]
  },
  {
   "cell_type": "code",
   "execution_count": 10,
   "id": "fe3d7b10",
   "metadata": {},
   "outputs": [
    {
     "name": "stdout",
     "output_type": "stream",
     "text": [
      "3----------\n",
      "0.70595723\n"
     ]
    }
   ],
   "source": [
    "print(\"3----------\")\n",
    "result = model.similarity(\"man\", \"woman\")\n",
    "print(result)"
   ]
  },
  {
   "cell_type": "markdown",
   "id": "5b0882e6",
   "metadata": {},
   "source": [
    "# Section 4 for word2vec"
   ]
  },
  {
   "cell_type": "code",
   "execution_count": 11,
   "id": "44e9abb9",
   "metadata": {},
   "outputs": [
    {
     "name": "stdout",
     "output_type": "stream",
     "text": [
      "4----------\n",
      "[('prince', 0.759779691696167)]\n"
     ]
    }
   ],
   "source": [
    "print(\"4----------\")\n",
    "result = model.most_similar(positive=[\"woman\", \"king\"], negative=[\"man\"], topn=1)\n",
    "print(result)"
   ]
  },
  {
   "cell_type": "markdown",
   "id": "699ce02d",
   "metadata": {},
   "source": [
    "# Section 5 for word2vec"
   ]
  },
  {
   "cell_type": "code",
   "execution_count": 12,
   "id": "839db716",
   "metadata": {},
   "outputs": [
    {
     "name": "stdout",
     "output_type": "stream",
     "text": [
      "5----------\n",
      "[('london', 0.7364553213119507)]\n"
     ]
    }
   ],
   "source": [
    "print(\"5----------\")\n",
    "result = model.most_similar(positive=[\"berlin\", \"vietnam\"], negative=[\"hanoi\"], topn=1)\n",
    "print(result)"
   ]
  },
  {
   "cell_type": "markdown",
   "id": "56cb5216",
   "metadata": {},
   "source": [
    "# Section 6 for word2vec"
   ]
  },
  {
   "cell_type": "code",
   "execution_count": 13,
   "id": "3f7d3740",
   "metadata": {},
   "outputs": [
    {
     "name": "stdout",
     "output_type": "stream",
     "text": [
      "6----------\n",
      "0.54308176\n"
     ]
    }
   ],
   "source": [
    "print(\"6----------\")\n",
    "result = model.similarity(\"marriage\", \"happiness\")\n",
    "print(result)"
   ]
  },
  {
   "cell_type": "code",
   "execution_count": 43,
   "id": "68e2391b",
   "metadata": {},
   "outputs": [
    {
     "name": "stdout",
     "output_type": "stream",
     "text": [
      "Cosine similarity with numpy: 0.5430818796157837\n",
      "Cosine similarity with math: 0.543081777352816\n"
     ]
    }
   ],
   "source": [
    "\n",
    "#TODO: Các bạn thử viết 2 cách khác nhau để tính cosine similarity\n",
    "# giữa 2 vector nhé. Kết quả giống với khi dùng model.similarity() là được\n",
    "# 1 cách là dùng numpy, 1 cách là không dùng numpy nhé\n",
    "from numpy.linalg import norm\n",
    "import math\n",
    "\n",
    "def cosine_similarity_np(vec_1, vec_2):\n",
    "    try:\n",
    "        cosine = np.dot(vec_1, vec_2)/(norm(vec_1) * norm(vec_2))\n",
    "    except ValueError as e:\n",
    "        print(f\"Vectors are not similar in shape {e}\")\n",
    "        return None\n",
    "    except TypeError as e:\n",
    "        print(f\"Cannot get similarity of None type {e}\")\n",
    "        return None\n",
    "    else:\n",
    "        return cosine\n",
    "    \n",
    "def cosine_similarity(vec_1, vec_2):\n",
    "    norminator = 0\n",
    "    sum_1, sum_2 = 0, 0 \n",
    "    \n",
    "    if len(vec_1) != len(vec_2):\n",
    "        return None\n",
    "    for i in range(0, len(vec_1)):\n",
    "        norminator+= vec_1[i]*vec_2[i]\n",
    "        sum_1 += vec_1[i]*vec_1[i]\n",
    "        sum_2 += vec_2[i]*vec_2[i]\n",
    "        cosine = norminator/(math.sqrt(sum_1)*math.sqrt(sum_2))\n",
    "    return cosine\n",
    "\n",
    "word_1 = model['marriage']\n",
    "word_2 = model['happiness']\n",
    "similarity_1 = cosine_similarity_np(word_1, word_2)\n",
    "print(f\"Cosine similarity with numpy: {similarity_1}\")\n",
    "similarity_2 = cosine_similarity(word_1, word_2)\n",
    "print(f\"Cosine similarity with math: {similarity_2}\")\n"
   ]
  }
 ],
 "metadata": {
  "kernelspec": {
   "display_name": "venv",
   "language": "python",
   "name": "python3"
  },
  "language_info": {
   "codemirror_mode": {
    "name": "ipython",
    "version": 3
   },
   "file_extension": ".py",
   "mimetype": "text/x-python",
   "name": "python",
   "nbconvert_exporter": "python",
   "pygments_lexer": "ipython3",
   "version": "3.10.12"
  }
 },
 "nbformat": 4,
 "nbformat_minor": 5
}

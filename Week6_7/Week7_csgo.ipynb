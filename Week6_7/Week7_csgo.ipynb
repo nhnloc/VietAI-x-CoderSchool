{
 "cells": [
  {
   "cell_type": "code",
   "execution_count": 30,
   "metadata": {},
   "outputs": [],
   "source": [
    "import pandas as pd\n",
    "from sklearn.preprocessing import OrdinalEncoder, StandardScaler\n",
    "from sklearn.impute import SimpleImputer\n",
    "from sklearn.model_selection import train_test_split\n",
    "from sklearn.pipeline import Pipeline\n",
    "from sklearn.compose import ColumnTransformer\n",
    "# from sklearn.ensemble import RandomForestClassifier, AdaBoostClassifier\n",
    "from sklearn.svm import SVC\n",
    "from sklearn.metrics import classification_report, confusion_matrix\n",
    "# from sklearn.naive_bayes import GaussianNB\n",
    "\n",
    "from sklearn.metrics import mean_squared_error, mean_absolute_error, r2_score\n",
    "from lazypredict.Supervised import LazyRegressor\n",
    "\n",
    "from sklearn.linear_model import LinearRegression\n"
   ]
  },
  {
   "cell_type": "code",
   "execution_count": 31,
   "metadata": {},
   "outputs": [
    {
     "name": "stdout",
     "output_type": "stream",
     "text": [
      "<class 'pandas.core.frame.DataFrame'>\n",
      "RangeIndex: 1133 entries, 0 to 1132\n",
      "Data columns (total 17 columns):\n",
      " #   Column         Non-Null Count  Dtype  \n",
      "---  ------         --------------  -----  \n",
      " 0   map            1133 non-null   object \n",
      " 1   day            1133 non-null   float64\n",
      " 2   month          1133 non-null   float64\n",
      " 3   year           1133 non-null   float64\n",
      " 4   date           1133 non-null   object \n",
      " 5   wait_time_s    1133 non-null   float64\n",
      " 6   match_time_s   1133 non-null   float64\n",
      " 7   team_a_rounds  1133 non-null   float64\n",
      " 8   team_b_rounds  1133 non-null   float64\n",
      " 9   ping           1133 non-null   float64\n",
      " 10  kills          1133 non-null   float64\n",
      " 11  assists        1133 non-null   float64\n",
      " 12  deaths         1133 non-null   float64\n",
      " 13  mvps           1133 non-null   float64\n",
      " 14  hs_percent     1133 non-null   float64\n",
      " 15  points         1133 non-null   float64\n",
      " 16  result         1133 non-null   object \n",
      "dtypes: float64(14), object(3)\n",
      "memory usage: 150.6+ KB\n"
     ]
    }
   ],
   "source": [
    "df = pd.read_csv(\"csgo.csv\")\n",
    "df.info()\n",
    "# df = df.drop(['team_a_rounds', 'team_b_rounds'], axis=1)"
   ]
  },
  {
   "cell_type": "code",
   "execution_count": 32,
   "metadata": {},
   "outputs": [
    {
     "name": "stdout",
     "output_type": "stream",
     "text": [
      "      points\n",
      "0      45.00\n",
      "1      40.00\n",
      "2      37.00\n",
      "3      30.00\n",
      "4      83.00\n",
      "...      ...\n",
      "1128   26.00\n",
      "1129   51.00\n",
      "1130   30.00\n",
      "1131   31.00\n",
      "1132   23.00\n",
      "\n",
      "[1133 rows x 1 columns]\n"
     ]
    }
   ],
   "source": [
    "target = 'points'\n",
    "df = df.drop(['map', 'day', 'month','year','date', 'ping','team_a_rounds', 'team_b_rounds'], axis=1)\n",
    "x = df.drop(target, axis=1)\n",
    "y = df[[target]]\n",
    "print(y)\n"
   ]
  },
  {
   "cell_type": "code",
   "execution_count": 33,
   "metadata": {},
   "outputs": [],
   "source": [
    "# result_catetories = ['Tie', 'Lost', 'Win']\n",
    "# ord_transformer = OrdinalEncoder(categories=[result_catetories])\n",
    "# num_transformer = StandardScaler()\n",
    "x_train, x_test, y_train, y_test = train_test_split(x, y, test_size=0.2)"
   ]
  },
  {
   "cell_type": "code",
   "execution_count": 43,
   "metadata": {},
   "outputs": [
    {
     "name": "stderr",
     "output_type": "stream",
     "text": [
      " 24%|██▍       | 10/42 [00:00<00:01, 19.12it/s]"
     ]
    },
    {
     "name": "stdout",
     "output_type": "stream",
     "text": [
      "GammaRegressor model failed to execute\n",
      "Some value(s) of y are out of the valid range of the loss 'HalfGammaLoss'.\n"
     ]
    },
    {
     "name": "stderr",
     "output_type": "stream",
     "text": [
      "100%|██████████| 42/42 [00:03<00:00, 12.99it/s]"
     ]
    },
    {
     "name": "stdout",
     "output_type": "stream",
     "text": [
      "[LightGBM] [Info] Auto-choosing col-wise multi-threading, the overhead of testing was 0.000060 seconds.\n",
      "You can set `force_col_wise=true` to remove the overhead.\n",
      "[LightGBM] [Info] Total Bins 580\n",
      "[LightGBM] [Info] Number of data points in the train set: 906, number of used features: 10\n",
      "[LightGBM] [Info] Start training from score 39.285872\n"
     ]
    },
    {
     "name": "stderr",
     "output_type": "stream",
     "text": [
      "\n"
     ]
    }
   ],
   "source": [
    "reg = LazyRegressor(verbose=0, ignore_warnings=False, custom_metric=None)\n",
    "models, predictions = reg.fit(x_train, x_test, y_train, y_test)\n",
    "\n"
   ]
  },
  {
   "cell_type": "code",
   "execution_count": 53,
   "metadata": {},
   "outputs": [
    {
     "name": "stdout",
     "output_type": "stream",
     "text": [
      "                               Adjusted R-Squared  R-Squared  RMSE  Time Taken\n",
      "Model                                                                         \n",
      "LassoCV                                      0.94       0.94  3.69        0.07\n",
      "LassoLarsIC                                  0.94       0.94  3.69        0.02\n",
      "LassoLarsCV                                  0.94       0.94  3.69        0.02\n",
      "LarsCV                                       0.94       0.94  3.69        0.04\n",
      "OrthogonalMatchingPursuitCV                  0.94       0.94  3.69        0.02\n",
      "Lars                                         0.94       0.94  3.70        0.03\n",
      "LinearRegression                             0.94       0.94  3.70        0.01\n",
      "TransformedTargetRegressor                   0.94       0.94  3.70        0.01\n",
      "BayesianRidge                                0.94       0.94  3.70        0.01\n",
      "RidgeCV                                      0.94       0.94  3.70        0.03\n",
      "Ridge                                        0.94       0.94  3.70        0.02\n",
      "SGDRegressor                                 0.94       0.94  3.70        0.06\n",
      "HuberRegressor                               0.94       0.94  3.71        0.02\n",
      "ElasticNetCV                                 0.94       0.94  3.71        0.07\n",
      "KernelRidge                                  0.94       0.94  3.72        0.06\n",
      "RANSACRegressor                              0.94       0.94  3.77        0.02\n",
      "GradientBoostingRegressor                    0.94       0.94  3.80        0.18\n",
      "LinearSVR                                    0.94       0.94  3.81        0.01\n",
      "Lasso                                        0.93       0.93  4.05        0.03\n",
      "LassoLars                                    0.93       0.93  4.05        0.01\n",
      "HistGradientBoostingRegressor                0.93       0.93  4.06        0.19\n",
      "ExtraTreesRegressor                          0.93       0.93  4.08        0.20\n",
      "RandomForestRegressor                        0.93       0.93  4.09        0.32\n",
      "LGBMRegressor                                0.93       0.93  4.09        0.05\n",
      "XGBRegressor                                 0.92       0.93  4.22        0.10\n",
      "BaggingRegressor                             0.92       0.93  4.22        0.05\n",
      "AdaBoostRegressor                            0.92       0.92  4.46        0.10\n",
      "OrthogonalMatchingPursuit                    0.90       0.91  4.76        0.02\n",
      "MLPRegressor                                 0.90       0.90  4.82        1.02\n",
      "PoissonRegressor                             0.88       0.88  5.41        0.02\n",
      "DecisionTreeRegressor                        0.87       0.88  5.46        0.02\n",
      "PassiveAggressiveRegressor                   0.87       0.88  5.52        0.01\n",
      "ExtraTreeRegressor                           0.86       0.86  5.83        0.01\n",
      "KNeighborsRegressor                          0.85       0.86  5.85        0.03\n",
      "ElasticNet                                   0.85       0.86  5.95        0.01\n",
      "TweedieRegressor                             0.79       0.79  7.12        0.02\n",
      "SVR                                          0.78       0.79  7.21        0.07\n",
      "NuSVR                                        0.77       0.78  7.35        0.06\n",
      "GaussianProcessRegressor                     0.30       0.32 12.87        0.10\n",
      "QuantileRegressor                           -0.04      -0.00 15.64        0.04\n",
      "DummyRegressor                              -0.04      -0.00 15.64        0.01\n"
     ]
    }
   ],
   "source": [
    "print(models)"
   ]
  },
  {
   "cell_type": "code",
   "execution_count": 38,
   "metadata": {},
   "outputs": [
    {
     "name": "stdout",
     "output_type": "stream",
     "text": [
      "['wait_time_s', 'match_time_s', 'kills', 'assists', 'deaths', 'mvps', 'hs_percent', 'points', 'result']\n"
     ]
    }
   ],
   "source": [
    "result_catetories = ['Tie', 'Lost', 'Win']\n",
    "ord_transformer = OrdinalEncoder(categories=[result_catetories])\n",
    "num_transformer = StandardScaler()\n",
    "\n",
    "column_list_full = df.columns.tolist()\n",
    "print(column_list_full)\n",
    "column_list_full.remove('result')\n",
    "column_list_full.remove('points')\n",
    "preprocessor = ColumnTransformer(transformers=[\n",
    "    ('num_transformer', num_transformer, column_list_full),\n",
    "    ('ord_transformer', ord_transformer, ['result'])\n",
    "])"
   ]
  },
  {
   "cell_type": "code",
   "execution_count": 40,
   "metadata": {},
   "outputs": [
    {
     "name": "stdout",
     "output_type": "stream",
     "text": [
      "Mean absolute error: 2.955943830774882\n",
      "Mean square error: 13.720205147953097\n",
      "R square error: 0.9439096596705551\n"
     ]
    }
   ],
   "source": [
    "model = Pipeline(steps=[\n",
    "    ('preprocess', preprocessor),\n",
    "    ('regressor', LinearRegression())\n",
    "])\n",
    "\n",
    "model.fit(x_train, y_train)\n",
    "\n",
    "y_predict = model.predict(x_test)\n",
    "print(f\"Mean absolute error: {mean_absolute_error(y_test, y_predict)}\")\n",
    "print(f\"Mean square error: {mean_squared_error(y_test, y_predict)}\")\n",
    "print(f\"R square error: {r2_score(y_test, y_predict)}\")"
   ]
  }
 ],
 "metadata": {
  "kernelspec": {
   "display_name": "venv",
   "language": "python",
   "name": "python3"
  },
  "language_info": {
   "codemirror_mode": {
    "name": "ipython",
    "version": 3
   },
   "file_extension": ".py",
   "mimetype": "text/x-python",
   "name": "python",
   "nbconvert_exporter": "python",
   "pygments_lexer": "ipython3",
   "version": "3.10.12"
  }
 },
 "nbformat": 4,
 "nbformat_minor": 2
}

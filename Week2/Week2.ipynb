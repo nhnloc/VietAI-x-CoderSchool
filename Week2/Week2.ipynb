{
 "cells": [
  {
   "cell_type": "markdown",
   "id": "57dd8d9e",
   "metadata": {},
   "source": [
    "# Exercise 1"
   ]
  },
  {
   "cell_type": "code",
   "execution_count": 8,
   "id": "7b3bc33d",
   "metadata": {},
   "outputs": [
    {
     "name": "stdout",
     "output_type": "stream",
     "text": [
      "The reversed array: [37 36 35 34 33 32 31 30 29 28 27 26 25 24 23 22 21 20 19 18 17 16 15 14\n",
      " 13 12]\n"
     ]
    }
   ],
   "source": [
    "# Ex1: Write a NumPy program to reverse an array (first element becomes last).\n",
    "# Input: [12 13 14 15 16 17 18 19 20 21 22 23 24 25 26 27 28 29 30 31 32 33 34 35 36 37]\n",
    "import numpy as np\n",
    "\n",
    "# my_array = np.array(input(\"Enter an array: \").split(' '))\n",
    "\n",
    "# print(my_array)\n",
    "\n",
    "my_array = np.array([12, 13, 14, 15, 16, 17, 18, 19, 20, 21, 22, 23, 24, 25, 26, 27, 28, 29, 30, 31, 32, 33, 34, 35, 36, 37])\n",
    "\n",
    "my_array = np.flip(my_array)\n",
    "\n",
    "print(f\"The reversed array: {my_array}\")\n"
   ]
  },
  {
   "cell_type": "markdown",
   "id": "81480123",
   "metadata": {},
   "source": [
    "# Exercise 2 "
   ]
  },
  {
   "cell_type": "code",
   "execution_count": 9,
   "id": "539714a5",
   "metadata": {},
   "outputs": [
    {
     "name": "stdout",
     "output_type": "stream",
     "text": [
      "Element 0 is NOT IN array_2\n",
      "Element 10 is IN array_2\n",
      "Element 20 is NOT IN array_2\n",
      "Element 40 is IN array_2\n",
      "Element 60 is NOT IN array_2\n"
     ]
    }
   ],
   "source": [
    "# Ex2: Write a NumPy program to test whether each element of a 1-D array is also present in a second array\n",
    "# Input Array1: [ 0 10 20 40 60]\n",
    "#       Array2: [10, 30, 40]\n",
    "\n",
    "# array_1 = np.array(input(\"Please enter the 1st array\").split(' '))\n",
    "# array_2 = np.array(input(\"Please enter the 2nd array\").split(' '))\n",
    "\n",
    "array_1 = np.array([0, 10, 20, 40, 60])\n",
    "array_2 = np.array([10, 30, 40])\n",
    "\n",
    "array_2 = set(array_2)\n",
    "\n",
    "result = [ele in array_2 for ele in array_1]\n",
    "\n",
    "for i in range(len(result)):\n",
    "    if result[i]:\n",
    "        print(f\"Element {array_1[i]} is IN array_2\")\n",
    "    else:\n",
    "        print(f\"Element {array_1[i]} is NOT IN array_2\")"
   ]
  },
  {
   "cell_type": "markdown",
   "id": "0376138e",
   "metadata": {},
   "source": [
    "# Exercise 3"
   ]
  },
  {
   "cell_type": "code",
   "execution_count": 10,
   "id": "2080da3c",
   "metadata": {},
   "outputs": [
    {
     "name": "stdout",
     "output_type": "stream",
     "text": [
      "Index of the maximum: 7\n",
      "Index of the minimum: 5\n"
     ]
    }
   ],
   "source": [
    "# Ex3: Write a NumPy program to find the indices of the maximum and minimum values along the given axis of an array\n",
    "# Input Array [1,6,4,8,9,-4,-2,11]\n",
    "\n",
    "my_array = np.array([1,6,4,8,9,-4,-2,11])\n",
    "\n",
    "print(f\"Index of the maximum: {np.argmax(my_array)}\")\n",
    "print(f\"Index of the minimum: {np.argmin(my_array)}\")"
   ]
  },
  {
   "cell_type": "markdown",
   "id": "b7b28d2b",
   "metadata": {},
   "source": [
    "# Exercise 4 "
   ]
  },
  {
   "cell_type": "code",
   "execution_count": 11,
   "id": "edc8dca6",
   "metadata": {},
   "outputs": [
    {
     "name": "stdout",
     "output_type": "stream",
     "text": [
      "the:1672\n",
      "and:873\n",
      "to:734\n",
      "a:649\n",
      "it:605\n",
      "she:553\n",
      "i:538\n",
      "of:519\n",
      "said:467\n",
      "you:411\n",
      "alice:408\n",
      "in:383\n",
      "was:359\n",
      "that:320\n",
      "as:261\n",
      "her:253\n",
      "t:218\n",
      "at:211\n",
      "with:198\n",
      "on:192\n",
      "all:183\n",
      "had:179\n",
      "but:169\n",
      "so:154\n",
      "for:152\n",
      "be:152\n",
      "they:152\n",
      "what:147\n",
      "not:146\n",
      "very:146\n",
      "this:142\n",
      "little:133\n",
      "he:122\n",
      "out:115\n",
      "is:110\n",
      "one:107\n",
      "down:106\n",
      "there:101\n",
      "up:101\n",
      "his:98\n",
      "about:94\n",
      "if:94\n",
      "then:92\n",
      "no:89\n",
      "like:87\n",
      "them:87\n",
      "were:85\n",
      "again:85\n",
      "would:85\n",
      "know:85\n",
      "or:83\n",
      "herself:83\n",
      "off:82\n",
      "queen:81\n",
      "went:81\n",
      "do:80\n",
      "when:79\n",
      "have:79\n",
      "could:78\n",
      "thought:73\n",
      "into:72\n",
      "by:70\n",
      "time:70\n",
      "me:68\n",
      "who:67\n",
      "see:66\n",
      "how:64\n",
      "m:64\n",
      "your:63\n",
      "king:63\n",
      "did:62\n",
      "turtle:61\n",
      "can:60\n",
      "now:60\n",
      "an:60\n",
      "its:60\n",
      "well:60\n",
      "don:60\n",
      "mock:59\n",
      "are:58\n",
      "began:58\n",
      "my:58\n",
      "hatter:56\n",
      "quite:55\n",
      "ll:55\n",
      "gryphon:55\n",
      "some:54\n",
      "head:53\n",
      "way:53\n",
      "here:52\n",
      "think:52\n",
      "their:52\n",
      "much:51\n",
      "just:51\n",
      "go:51\n",
      "which:50\n",
      "thing:50\n",
      "more:49\n",
      "say:49\n",
      "first:49\n"
     ]
    }
   ],
   "source": [
    "# Ex4: Read the entire file story.txt and write a program to print out top 100 words occur most\n",
    "# frequently and their corresponding appearance. You could ignore all\n",
    "# punction characters such as comma, dot, semicolon, ...\n",
    "# Sample output:\n",
    "# house: 453\n",
    "# dog: 440\n",
    "# people: 312\n",
    "# ...\n",
    "\n",
    "import re\n",
    "from collections import Counter\n",
    "\n",
    "with open(\"story.txt\", \"r\") as file: \n",
    "    content = file.read().lower()\n",
    "    # print(content)\n",
    "    # content_filter = re.sub(r\"'s\\b\", '', content)\n",
    "    # content_filter = re.sub(r\"[^\\w\\s'-]\", ' ',content_filter)\n",
    "    content_filter = re.sub(r\"'s\\b|'|[^\\w\\s'-]\", ' ', content)\n",
    "    # content_filter = re.sub(r\"'\", '', content)\n",
    "    # print(content_filter)\n",
    "    content_split = content_filter.split()\n",
    "    occurrence = Counter(content_split)\n",
    "    \n",
    "    for item in occurrence.most_common(100):\n",
    "        print(f\"{item[0]}:{item[1]}\")"
   ]
  },
  {
   "cell_type": "code",
   "execution_count": null,
   "id": "8efce2cb",
   "metadata": {},
   "outputs": [],
   "source": []
  }
 ],
 "metadata": {
  "kernelspec": {
   "display_name": "venv",
   "language": "python",
   "name": "python3"
  },
  "language_info": {
   "codemirror_mode": {
    "name": "ipython",
    "version": 3
   },
   "file_extension": ".py",
   "mimetype": "text/x-python",
   "name": "python",
   "nbconvert_exporter": "python",
   "pygments_lexer": "ipython3",
   "version": "3.10.12"
  }
 },
 "nbformat": 4,
 "nbformat_minor": 5
}

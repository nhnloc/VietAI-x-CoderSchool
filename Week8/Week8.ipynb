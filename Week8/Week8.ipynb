{
 "cells": [
  {
   "cell_type": "code",
   "execution_count": 1,
   "metadata": {},
   "outputs": [
    {
     "name": "stdout",
     "output_type": "stream",
     "text": [
      "                                      precision    recall  f1-score   support\n",
      "\n",
      "                      bereichsleiter       0.69      0.05      0.09       192\n",
      "       director_business_unit_leader       1.00      0.29      0.44        14\n",
      "                 manager_team_leader       0.63      0.51      0.56       534\n",
      "senior_specialist_or_project_manager       0.71      0.96      0.82       868\n",
      "\n",
      "                            accuracy                           0.69      1608\n",
      "                           macro avg       0.76      0.45      0.48      1608\n",
      "                        weighted avg       0.69      0.69      0.64      1608\n",
      "\n"
     ]
    }
   ],
   "source": [
    "import pandas as pd\n",
    "from sklearn.model_selection import train_test_split, GridSearchCV\n",
    "from sklearn.feature_extraction.text import TfidfVectorizer\n",
    "from sklearn.preprocessing import OneHotEncoder\n",
    "from sklearn.compose import ColumnTransformer\n",
    "from sklearn.ensemble import RandomForestClassifier\n",
    "from sklearn.pipeline import Pipeline\n",
    "from sklearn.metrics import classification_report\n",
    "\n",
    "def filter_location(location):\n",
    "    result = location.split(\",\")\n",
    "    if len(result) > 1:\n",
    "        return result[1][1:]\n",
    "    else:\n",
    "        return location\n",
    "\n",
    "data = pd.read_excel(\"job_dataset.ods\", engine=\"odf\", dtype=\"str\")\n",
    "data = data.dropna(axis=0)\n",
    "data = data.drop(data[data['career_level'] == 'specialist'].index, axis=0)\n",
    "data = data.drop(data[data['career_level'] == 'managing_director_small_medium_company'].index, axis=0)\n",
    "data[\"location\"] = data[\"location\"].apply(filter_location)\n",
    "# print(data.info())\n",
    "\n",
    "target = \"career_level\"\n",
    "\n",
    "# print(data[target].value_counts())\n",
    "\n",
    "x = data.drop(target, axis=1)\n",
    "y = data[target]\n",
    "\n",
    "x_train, x_test, y_train, y_test = train_test_split(x, y, test_size=0.2, random_state=42, stratify=y)\n",
    "\n",
    "\n",
    "\n",
    "preprocessor = ColumnTransformer(transformers=[\n",
    "    (\"title\", TfidfVectorizer(stop_words=\"english\", ngram_range=(1,1)), \"title\"),\n",
    "    (\"location\", OneHotEncoder(handle_unknown='ignore'), [\"location\"]),\n",
    "    (\"description\", TfidfVectorizer(stop_words=\"english\", ngram_range=(1,2)), \"description\"),\n",
    "    (\"function\", OneHotEncoder(handle_unknown='ignore'), [\"function\"]),\n",
    "    (\"industry\", TfidfVectorizer(stop_words=\"english\", ngram_range=(1,1)), \"industry\"),\n",
    "])\n",
    "\n",
    "model = Pipeline(steps=[\n",
    "    (\"pre-processor\", preprocessor),\n",
    "    (\"classify\", RandomForestClassifier(random_state=100))\n",
    "])\n",
    "\n",
    "model.fit(x_train, y_train)\n",
    "\n",
    "y_predict = model.predict(x_test)\n",
    "\n",
    "print(classification_report(y_test, y_predict))\n"
   ]
  }
 ],
 "metadata": {
  "kernelspec": {
   "display_name": "venv",
   "language": "python",
   "name": "python3"
  },
  "language_info": {
   "codemirror_mode": {
    "name": "ipython",
    "version": 3
   },
   "file_extension": ".py",
   "mimetype": "text/x-python",
   "name": "python",
   "nbconvert_exporter": "python",
   "pygments_lexer": "ipython3",
   "version": "3.10.12"
  }
 },
 "nbformat": 4,
 "nbformat_minor": 2
}

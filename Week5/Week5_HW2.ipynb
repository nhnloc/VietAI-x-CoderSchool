{
 "cells": [
  {
   "cell_type": "code",
   "execution_count": 2,
   "metadata": {},
   "outputs": [],
   "source": [
    "import pandas as pd"
   ]
  },
  {
   "cell_type": "code",
   "execution_count": 3,
   "metadata": {},
   "outputs": [
    {
     "data": {
      "text/html": [
       "<div>\n",
       "<style scoped>\n",
       "    .dataframe tbody tr th:only-of-type {\n",
       "        vertical-align: middle;\n",
       "    }\n",
       "\n",
       "    .dataframe tbody tr th {\n",
       "        vertical-align: top;\n",
       "    }\n",
       "\n",
       "    .dataframe thead th {\n",
       "        text-align: right;\n",
       "    }\n",
       "</style>\n",
       "<table border=\"1\" class=\"dataframe\">\n",
       "  <thead>\n",
       "    <tr style=\"text-align: right;\">\n",
       "      <th></th>\n",
       "      <th>gender</th>\n",
       "      <th>race/ethnicity</th>\n",
       "      <th>parental level of education</th>\n",
       "      <th>lunch</th>\n",
       "      <th>test preparation course</th>\n",
       "      <th>math score</th>\n",
       "      <th>reading score</th>\n",
       "      <th>writing score</th>\n",
       "    </tr>\n",
       "  </thead>\n",
       "  <tbody>\n",
       "    <tr>\n",
       "      <th>0</th>\n",
       "      <td>female</td>\n",
       "      <td>group B</td>\n",
       "      <td>bachelor's degree</td>\n",
       "      <td>standard</td>\n",
       "      <td>none</td>\n",
       "      <td>72</td>\n",
       "      <td>72</td>\n",
       "      <td>74</td>\n",
       "    </tr>\n",
       "    <tr>\n",
       "      <th>1</th>\n",
       "      <td>female</td>\n",
       "      <td>group C</td>\n",
       "      <td>some college</td>\n",
       "      <td>standard</td>\n",
       "      <td>completed</td>\n",
       "      <td>69</td>\n",
       "      <td>90</td>\n",
       "      <td>88</td>\n",
       "    </tr>\n",
       "    <tr>\n",
       "      <th>2</th>\n",
       "      <td>female</td>\n",
       "      <td>group B</td>\n",
       "      <td>master's degree</td>\n",
       "      <td>standard</td>\n",
       "      <td>none</td>\n",
       "      <td>90</td>\n",
       "      <td>95</td>\n",
       "      <td>93</td>\n",
       "    </tr>\n",
       "    <tr>\n",
       "      <th>3</th>\n",
       "      <td>male</td>\n",
       "      <td>group A</td>\n",
       "      <td>associate's degree</td>\n",
       "      <td>free/reduced</td>\n",
       "      <td>none</td>\n",
       "      <td>47</td>\n",
       "      <td>57</td>\n",
       "      <td>44</td>\n",
       "    </tr>\n",
       "    <tr>\n",
       "      <th>4</th>\n",
       "      <td>male</td>\n",
       "      <td>group C</td>\n",
       "      <td>some college</td>\n",
       "      <td>standard</td>\n",
       "      <td>none</td>\n",
       "      <td>76</td>\n",
       "      <td>78</td>\n",
       "      <td>75</td>\n",
       "    </tr>\n",
       "  </tbody>\n",
       "</table>\n",
       "</div>"
      ],
      "text/plain": [
       "   gender race/ethnicity parental level of education         lunch  \\\n",
       "0  female        group B           bachelor's degree      standard   \n",
       "1  female        group C                some college      standard   \n",
       "2  female        group B             master's degree      standard   \n",
       "3    male        group A          associate's degree  free/reduced   \n",
       "4    male        group C                some college      standard   \n",
       "\n",
       "  test preparation course  math score  reading score  writing score  \n",
       "0                    none          72             72             74  \n",
       "1               completed          69             90             88  \n",
       "2                    none          90             95             93  \n",
       "3                    none          47             57             44  \n",
       "4                    none          76             78             75  "
      ]
     },
     "execution_count": 3,
     "metadata": {},
     "output_type": "execute_result"
    }
   ],
   "source": [
    "df = pd.read_csv(\"./BTVN_2/dataset_2.csv\")\n",
    "df.head()"
   ]
  },
  {
   "cell_type": "code",
   "execution_count": 4,
   "metadata": {},
   "outputs": [
    {
     "name": "stdout",
     "output_type": "stream",
     "text": [
      "Index([962, 625, 458, 623, 451, 149, 916, 263, 114, 712], dtype='int64')\n"
     ]
    }
   ],
   "source": [
    "# Task 1:\n",
    "top_10_math = df.sort_values(by=\"math score\", ascending=False)[:100]\n",
    "\n",
    "top_10_reading = df.sort_values(by=\"reading score\",  ascending=False)[:100]\n",
    "\n",
    "top_students = top_10_math[top_10_math['reading score'].isin(top_10_reading['reading score'])][:10]\n",
    "\n",
    "print(top_students.index)"
   ]
  },
  {
   "cell_type": "code",
   "execution_count": 5,
   "metadata": {},
   "outputs": [
    {
     "name": "stdout",
     "output_type": "stream",
     "text": [
      "Index([546, 614, 571, 820, 983, 702, 539, 623, 468, 489, 778, 911,  77, 300,\n",
      "       423, 837, 378, 490, 651, 170, 855, 514,   2,   6,  94, 121, 501, 474,\n",
      "       919, 577, 833, 551, 722, 158, 667, 715, 803, 815, 125, 749, 165, 594,\n",
      "       717, 334, 347, 381, 397, 229, 325, 732, 979, 122, 276, 420, 562, 463,\n",
      "       465, 612, 864, 104, 106, 179, 377, 403, 903, 957, 970, 625, 712, 110,\n",
      "       652, 373, 580, 941, 268, 821, 316, 907, 604, 641, 114, 458, 566, 685,\n",
      "       916, 962, 451, 802, 886, 995, 533, 149, 852, 503, 755, 164, 890, 263,\n",
      "       216, 286],\n",
      "      dtype='int64')\n"
     ]
    }
   ],
   "source": [
    "# Task 2\n",
    "top_20_per_group = df.groupby('race/ethnicity')['writing score'].apply(lambda x: x.nlargest(20)).reset_index(level=0, drop=True)\n",
    "print(top_20_per_group.index)\n"
   ]
  },
  {
   "cell_type": "code",
   "execution_count": 6,
   "metadata": {},
   "outputs": [
    {
     "name": "stdout",
     "output_type": "stream",
     "text": [
      "parental level of education\n",
      "some high school      24\n",
      "some college          18\n",
      "high school           18\n",
      "associate's degree    14\n",
      "bachelor's degree     12\n",
      "master's degree        3\n",
      "Name: count, dtype: int64\n"
     ]
    }
   ],
   "source": [
    "# Task 3\n",
    "group_A = df[df['race/ethnicity'] == 'group A']['parental level of education'].value_counts()\n",
    "print(group_A)"
   ]
  },
  {
   "cell_type": "code",
   "execution_count": 7,
   "metadata": {},
   "outputs": [
    {
     "name": "stdout",
     "output_type": "stream",
     "text": [
      "parental level of education\n",
      "associate's degree    69.569069\n",
      "bachelor's degree     71.923729\n",
      "high school           63.096939\n",
      "master's degree       73.598870\n",
      "some college          68.476401\n",
      "some high school      65.108007\n",
      "Name: average_score, dtype: float64\n",
      "Cha mẹ học vấn càng cao thì điểm trung bình của con càng cao\n"
     ]
    }
   ],
   "source": [
    "# Task 4: \n",
    "df['average_score'] = df[['math score', 'reading score', 'writing score']].mean(axis=1)\n",
    "\n",
    "education_avg_score = df.groupby('parental level of education')['average_score'].mean()\n",
    "\n",
    "print(education_avg_score)\n",
    "\n",
    "print(\"Cha mẹ học vấn càng cao thì điểm trung bình của con càng cao\")"
   ]
  },
  {
   "cell_type": "code",
   "execution_count": 8,
   "metadata": {},
   "outputs": [
    {
     "name": "stdout",
     "output_type": "stream",
     "text": [
      "lunch\n",
      "free/reduced    62.199061\n",
      "standard        70.837209\n",
      "Name: average_score, dtype: float64\n",
      "Chất lượng bữa ăn không tương phản với điểm trung bình\n"
     ]
    }
   ],
   "source": [
    "lunch_avg_score = df.groupby('lunch')['average_score'].mean()\n",
    "\n",
    "print(lunch_avg_score)\n",
    "\n",
    "print(\"Chất lượng bữa ăn không tương phản với điểm trung bình\")"
   ]
  },
  {
   "cell_type": "code",
   "execution_count": 9,
   "metadata": {},
   "outputs": [
    {
     "name": "stdout",
     "output_type": "stream",
     "text": [
      "race/ethnicity     \n",
      "group A         623    100\n",
      "                539     97\n",
      "                546     92\n",
      "                571     91\n",
      "                702     87\n",
      "                820     85\n",
      "                614     82\n",
      "                300     81\n",
      "                77      80\n",
      "                444     79\n",
      "group B         855     97\n",
      "                501     94\n",
      "                815     94\n",
      "                121     91\n",
      "                919     91\n",
      "                474     90\n",
      "                333     90\n",
      "                2       90\n",
      "                274     88\n",
      "                6       88\n",
      "group C         104     98\n",
      "                934     98\n",
      "                864     97\n",
      "                562     96\n",
      "                165     96\n",
      "                717     96\n",
      "                612     94\n",
      "                710     93\n",
      "                736     92\n",
      "                594     92\n",
      "group D         625    100\n",
      "                712     98\n",
      "                179     97\n",
      "                618     95\n",
      "                903     93\n",
      "                957     92\n",
      "                299     90\n",
      "                659     90\n",
      "                970     89\n",
      "                130     89\n",
      "group E         149    100\n",
      "                458    100\n",
      "                962    100\n",
      "                916    100\n",
      "                451    100\n",
      "                263     99\n",
      "                306     99\n",
      "                114     99\n",
      "                286     97\n",
      "                34      97\n",
      "Name: math score, dtype: int64\n"
     ]
    },
    {
     "name": "stderr",
     "output_type": "stream",
     "text": [
      "/tmp/ipykernel_130314/1657001492.py:3: DeprecationWarning: DataFrameGroupBy.apply operated on the grouping columns. This behavior is deprecated, and in a future version of pandas the grouping columns will be excluded from the operation. Either pass `include_groups=False` to exclude the groupings or explicitly select the grouping columns after groupby to silence this warning.\n",
      "  .apply(lambda x: x.sort_values(by='math score', ascending=False).head(10))\n"
     ]
    }
   ],
   "source": [
    "top_10_math_scores = (\n",
    "    df.groupby('race/ethnicity', group_keys=True)\n",
    "      .apply(lambda x: x.sort_values(by='math score', ascending=False).head(10))\n",
    ")\n",
    "\n",
    "print(top_10_math_scores['math score'])"
   ]
  },
  {
   "cell_type": "code",
   "execution_count": null,
   "metadata": {},
   "outputs": [
    {
     "name": "stdout",
     "output_type": "stream",
     "text": [
      "0.8666666666666667\n"
     ]
    }
   ],
   "source": [
    "df['average_score'] = df[['math score', 'reading score', 'writing score']].mean(axis=1)\n",
    "\n",
    "average_score_by_course = (\n",
    "    df.groupby(['race/ethnicity', 'parental level of education', 'lunch', 'test preparation course'])['average_score']\n",
    "      .mean()\n",
    "      .unstack() \n",
    ")\n",
    "\n",
    "print(sum(average_score_by_course[\"completed\"] > average_score_by_course[\"none\"])/len(average_score_by_course[\"completed\"]))\n",
    "# Ta thấy 86% học sinh tham gia preparation course có điểm cao hơn những học sinh không tham gia. Nên có bằng chứng để kết luận là việc tham gia preparation course có giúp học sinh đạt điểm trung bình cao hơn "
   ]
  }
 ],
 "metadata": {
  "kernelspec": {
   "display_name": "venv",
   "language": "python",
   "name": "python3"
  },
  "language_info": {
   "codemirror_mode": {
    "name": "ipython",
    "version": 3
   },
   "file_extension": ".py",
   "mimetype": "text/x-python",
   "name": "python",
   "nbconvert_exporter": "python",
   "pygments_lexer": "ipython3",
   "version": "3.10.12"
  }
 },
 "nbformat": 4,
 "nbformat_minor": 2
}

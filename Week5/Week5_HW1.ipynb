{
 "cells": [
  {
   "cell_type": "code",
   "execution_count": 2,
   "metadata": {},
   "outputs": [],
   "source": [
    "import pandas as pd"
   ]
  },
  {
   "cell_type": "code",
   "execution_count": 3,
   "metadata": {},
   "outputs": [
    {
     "data": {
      "text/html": [
       "<div>\n",
       "<style scoped>\n",
       "    .dataframe tbody tr th:only-of-type {\n",
       "        vertical-align: middle;\n",
       "    }\n",
       "\n",
       "    .dataframe tbody tr th {\n",
       "        vertical-align: top;\n",
       "    }\n",
       "\n",
       "    .dataframe thead th {\n",
       "        text-align: right;\n",
       "    }\n",
       "</style>\n",
       "<table border=\"1\" class=\"dataframe\">\n",
       "  <thead>\n",
       "    <tr style=\"text-align: right;\">\n",
       "      <th></th>\n",
       "      <th>Rank</th>\n",
       "      <th>City</th>\n",
       "      <th>Population</th>\n",
       "      <th>Area KM2</th>\n",
       "      <th>Area   M2</th>\n",
       "      <th>Density KM2</th>\n",
       "      <th>Density  M2</th>\n",
       "      <th>Country</th>\n",
       "      <th>Year</th>\n",
       "    </tr>\n",
       "  </thead>\n",
       "  <tbody>\n",
       "    <tr>\n",
       "      <th>0</th>\n",
       "      <td>1.0</td>\n",
       "      <td>Manila</td>\n",
       "      <td>1,846,513</td>\n",
       "      <td>43</td>\n",
       "      <td>17</td>\n",
       "      <td>43,062</td>\n",
       "      <td>111,532</td>\n",
       "      <td>Filipinler *</td>\n",
       "      <td>2020  [1] 2018 [2]</td>\n",
       "    </tr>\n",
       "    <tr>\n",
       "      <th>1</th>\n",
       "      <td>2.0</td>\n",
       "      <td>Mandaluyong</td>\n",
       "      <td>425,758</td>\n",
       "      <td>11</td>\n",
       "      <td>4</td>\n",
       "      <td>38,495</td>\n",
       "      <td>99,703</td>\n",
       "      <td>Filipinler *</td>\n",
       "      <td>2020  [1] [3]</td>\n",
       "    </tr>\n",
       "    <tr>\n",
       "      <th>2</th>\n",
       "      <td>3.0</td>\n",
       "      <td>pateros</td>\n",
       "      <td>65,227</td>\n",
       "      <td>2</td>\n",
       "      <td>1</td>\n",
       "      <td>37,061</td>\n",
       "      <td>95,988</td>\n",
       "      <td>Filipinler *</td>\n",
       "      <td>2020  [1] 2013 [3]</td>\n",
       "    </tr>\n",
       "    <tr>\n",
       "      <th>3</th>\n",
       "      <td>4.0</td>\n",
       "      <td>Caloocan</td>\n",
       "      <td>1,661,584</td>\n",
       "      <td>53</td>\n",
       "      <td>21</td>\n",
       "      <td>31,233</td>\n",
       "      <td>80,893</td>\n",
       "      <td>Filipinler *</td>\n",
       "      <td>2020  [1] [3]</td>\n",
       "    </tr>\n",
       "    <tr>\n",
       "      <th>4</th>\n",
       "      <td>5.0</td>\n",
       "      <td>ben fren</td>\n",
       "      <td>212,646</td>\n",
       "      <td>7</td>\n",
       "      <td>3</td>\n",
       "      <td>30,001</td>\n",
       "      <td>77,702</td>\n",
       "      <td>İsrail *</td>\n",
       "      <td>2022 [4] [5]</td>\n",
       "    </tr>\n",
       "  </tbody>\n",
       "</table>\n",
       "</div>"
      ],
      "text/plain": [
       "   Rank         City Population Area KM2 Area   M2 Density KM2 Density  M2  \\\n",
       "0   1.0       Manila  1,846,513       43        17      43,062     111,532   \n",
       "1   2.0  Mandaluyong    425,758       11         4      38,495      99,703   \n",
       "2   3.0      pateros     65,227        2         1      37,061      95,988   \n",
       "3   4.0     Caloocan  1,661,584       53        21      31,233      80,893   \n",
       "4   5.0     ben fren    212,646        7         3      30,001      77,702   \n",
       "\n",
       "         Country                Year  \n",
       "0   Filipinler *  2020  [1] 2018 [2]  \n",
       "1   Filipinler *       2020  [1] [3]  \n",
       "2   Filipinler *  2020  [1] 2013 [3]  \n",
       "3   Filipinler *       2020  [1] [3]  \n",
       "4       İsrail *        2022 [4] [5]  "
      ]
     },
     "execution_count": 3,
     "metadata": {},
     "output_type": "execute_result"
    }
   ],
   "source": [
    "df = pd.read_csv(\"./BTVN_1/dataset_1.csv\")\n",
    "df.head()"
   ]
  },
  {
   "cell_type": "code",
   "execution_count": 4,
   "metadata": {},
   "outputs": [],
   "source": [
    "df['Population'] = df['Population'].str.replace(',', '').astype(int)\n"
   ]
  },
  {
   "cell_type": "code",
   "execution_count": 5,
   "metadata": {},
   "outputs": [],
   "source": [
    "df['Area KM2'] = pd.to_numeric(df['Area KM2'], errors='coerce').astype('float')\n",
    "df = df.dropna(subset=['Population', 'Area KM2'])"
   ]
  },
  {
   "cell_type": "code",
   "execution_count": 6,
   "metadata": {},
   "outputs": [
    {
     "name": "stdout",
     "output_type": "stream",
     "text": [
      "Top 10 cities with highest population: \n",
      "   - Karaçi\n",
      "   - Bombay\n",
      "   - Cakarta\n",
      "   - Seul\n",
      "   - Kahire\n",
      "   - Dakka\n",
      "   - Kalküta\n",
      "   - Bandung\n",
      "   - Quezon şehir\n",
      "   - Çittagong\n",
      "==============================================================\n",
      "Top 10 cities with lowest population: \n",
      "   - Senglea\n",
      "   - Kotsiubynske\n",
      "   - Le Pré-Saint-Gervais\n",
      "   - nazikçe\n",
      "   - Koekelberg\n",
      "   - Saint-Mande\n",
      "   - Les Lilas\n",
      "   - Napoli, Selanik\n",
      "   - Saint-Josse-ten-Noode\n",
      "   - Vanveler\n"
     ]
    }
   ],
   "source": [
    "# Task 1: Top 10 city with highest.lowest population\n",
    "df_sorted_descending = df.sort_values(by=\"Population\", ascending=False)\n",
    "top_10_city = df_sorted_descending[\"City\"].head(10)\n",
    "print(f\"Top 10 cities with highest population: \")\n",
    "for city in top_10_city.to_numpy():\n",
    "    print(f\"   - {city}\")\n",
    "\n",
    "print(\"==============================================================\")\n",
    "df_sorted_ascending = df.sort_values(by=\"Population\", ascending=True)\n",
    "bot_10_city = df_sorted_ascending[\"City\"].head(10)\n",
    "print(f\"Top 10 cities with lowest population: \")\n",
    "for city in bot_10_city.to_numpy():\n",
    "    print(f\"   - {city}\")"
   ]
  },
  {
   "cell_type": "code",
   "execution_count": 7,
   "metadata": {},
   "outputs": [
    {
     "name": "stdout",
     "output_type": "stream",
     "text": [
      "Countries with at least 3 cities in this list: \n",
      " Filipinler *\n",
      " Fransa *\n",
      " Belçika *\n",
      " İspanya *\n",
      " Amerika Birleşik Devletleri *\n",
      " Hindistan *\n",
      " Yunanistan *\n",
      " Endonezya *\n",
      " İsrail *\n"
     ]
    }
   ],
   "source": [
    "# Task 2: Print countries with at least 3 cities in this list\n",
    "total_city = df['Country'].value_counts()\n",
    "\n",
    "print(\"Countries with at least 3 cities in this list: \")\n",
    "for country in total_city[total_city.values >=3].index:\n",
    "    print(country)\n",
    "\n"
   ]
  },
  {
   "cell_type": "code",
   "execution_count": 8,
   "metadata": {},
   "outputs": [
    {
     "name": "stdout",
     "output_type": "stream",
     "text": [
      "Top 5 countries with most cities: \n",
      " Filipinler *\n",
      " Fransa *\n",
      " Belçika *\n",
      " İspanya *\n",
      " Amerika Birleşik Devletleri *\n"
     ]
    }
   ],
   "source": [
    "# Task 3: Print top 5 countries with the most cities appears in the list\n",
    "\n",
    "print(\"Top 5 countries with most cities: \")\n",
    "for country in total_city[:5].index:\n",
    "    print(country)"
   ]
  },
  {
   "cell_type": "code",
   "execution_count": 13,
   "metadata": {},
   "outputs": [
    {
     "name": "stdout",
     "output_type": "stream",
     "text": [
      "Karaçi\n",
      "Bombay\n",
      "Cakarta\n",
      "Seul\n",
      "Kahire\n",
      "Dakka\n",
      "Kalküta\n",
      "Bandung\n",
      "Quezon şehir\n",
      "Çittagong\n",
      "Paris\n",
      "Şam\n",
      "Caloocan\n",
      "Barselona\n",
      "Manhattan\n",
      "Katmandu\n",
      "Ciudad Nezahualcóyotl\n",
      "naber\n"
     ]
    }
   ],
   "source": [
    "# Task 4: print cities with population and area that are both in top 20\n",
    "top_20_population = df.sort_values(by=\"Population\", ascending=False)[:20]\n",
    "\n",
    "top_20_area = df.sort_values(by=\"Area KM2\", ascending=False)[:20]\n",
    "\n",
    "top_cities = top_20_population[top_20_population['City'].isin(top_20_area['City'])]\n",
    "\n",
    "for city in top_cities[\"City\"]:\n",
    "    print(city)"
   ]
  },
  {
   "cell_type": "code",
   "execution_count": 10,
   "metadata": {},
   "outputs": [
    {
     "name": "stdout",
     "output_type": "stream",
     "text": [
      "Country\n",
      " Amerika Birleşik Devletleri     27605\n",
      " Amerika Birleşik Devletleri *   19620\n",
      " Bangladeş *                     24921\n",
      " Belçika *                       17385\n",
      " Endonezya *                     16345\n",
      " Eritre *                        21400\n",
      " Filipinler *                    22422\n",
      " Fransa *                        20397\n",
      " Güney Kore *                    16467\n",
      " Hatay *                         27425\n",
      " Hindistan *                     21442\n",
      " Japonya *                       17120\n",
      " Makao *                         21437\n",
      " Maldivler *                     22235\n",
      " Malta *                           inf\n",
      " Meksika *                       17628\n",
      " Monako *                        18475\n",
      " Mısır *                         15742\n",
      " Nepal *                         29429\n",
      " Pakistan *                      25229\n",
      " Sri Lanka *                     20351\n",
      " Suriye *                        22221\n",
      " Ukrayna *                       17249\n",
      " Yunanistan *                    20022\n",
      " İspanya *                       16815\n",
      " İsrail *                        23469\n",
      "dtype: float64\n"
     ]
    }
   ],
   "source": [
    "# Task 5: \n",
    "pd.options.display.float_format = '{:.0f}'.format\n",
    "\n",
    "total_population = df.groupby(\"Country\")[\"Population\"].sum()\n",
    "\n",
    "total_area = df.groupby(\"Country\")['Area KM2'].sum()\n",
    "\n",
    "population_density = total_population / total_area\n",
    "print(population_density)"
   ]
  },
  {
   "cell_type": "code",
   "execution_count": 11,
   "metadata": {},
   "outputs": [
    {
     "name": "stdout",
     "output_type": "stream",
     "text": [
      "                           Country          City\n",
      "37   Amerika Birleşik Devletleri *  Birlik Şehri\n",
      "6                      Bangladeş *         Dakka\n",
      "65                       Belçika *    Schaerbeek\n",
      "69                     Endonezya *       Cakarta\n",
      "52                    Filipinler *  Quezon şehir\n",
      "30                        Fransa *         Paris\n",
      "32                     Hindistan *        Bombay\n",
      "28                    Yunanistan *     Kallithea\n",
      "68                       İspanya *     Barselona\n",
      "4                         İsrail *      ben fren\n"
     ]
    }
   ],
   "source": [
    "# Task 6\n",
    "countries_with_2_cities = total_city[total_city.values >=2].index\n",
    "\n",
    "new_df = df[df['Country'].isin(countries_with_2_cities)]\n",
    "\n",
    "# for country in countries_with_2_cities:\n",
    "idx  = new_df.groupby('Country')['Population'].idxmax()\n",
    "max_population_cities = df.loc[idx]\n",
    "result = max_population_cities[['Country', 'City']]\n",
    "print(result)"
   ]
  }
 ],
 "metadata": {
  "kernelspec": {
   "display_name": "venv",
   "language": "python",
   "name": "python3"
  },
  "language_info": {
   "codemirror_mode": {
    "name": "ipython",
    "version": 3
   },
   "file_extension": ".py",
   "mimetype": "text/x-python",
   "name": "python",
   "nbconvert_exporter": "python",
   "pygments_lexer": "ipython3",
   "version": "3.10.12"
  }
 },
 "nbformat": 4,
 "nbformat_minor": 2
}

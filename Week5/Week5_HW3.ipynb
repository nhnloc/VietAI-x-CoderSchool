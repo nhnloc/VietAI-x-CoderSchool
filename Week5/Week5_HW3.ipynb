{
 "cells": [
  {
   "cell_type": "code",
   "execution_count": 1,
   "metadata": {},
   "outputs": [],
   "source": [
    "import pandas as pd "
   ]
  },
  {
   "cell_type": "code",
   "execution_count": 26,
   "metadata": {},
   "outputs": [
    {
     "name": "stdout",
     "output_type": "stream",
     "text": [
      "                                               title  \\\n",
      "0  2020 Summer Vintage Flamingo Print  Pajamas Se...   \n",
      "1  SSHOUSE Summer Casual Sleeveless Soirée Party ...   \n",
      "2  2020 Nouvelle Arrivée Femmes Printemps et Été ...   \n",
      "3  Hot Summer Cool T-shirt pour les femmes Mode T...   \n",
      "4  Femmes Shorts d'été à lacets taille élastique ...   \n",
      "\n",
      "                                          title_orig  price  retail_price  \\\n",
      "0  2020 Summer Vintage Flamingo Print  Pajamas Se...  16.00            14   \n",
      "1   Women's Casual Summer Sleeveless Sexy Mini Dress   8.00            22   \n",
      "2  2020 New Arrival Women Spring and Summer Beach...   8.00            43   \n",
      "3  Hot Summer Cool T Shirt for Women Fashion Tops...   8.00             8   \n",
      "4  Women Summer Shorts Lace Up Elastic Waistband ...   2.72             3   \n",
      "\n",
      "  currency_buyer  units_sold  uses_ad_boosts  rating  rating_count  \\\n",
      "0            EUR         100               0    3.76            54   \n",
      "1            EUR       20000               1    3.45          6135   \n",
      "2            EUR         100               0    3.57            14   \n",
      "3            EUR        5000               1    4.03           579   \n",
      "4            EUR         100               1    3.10            20   \n",
      "\n",
      "   rating_five_count  ...  merchant_rating_count  merchant_rating  \\\n",
      "0               26.0  ...                    568         4.128521   \n",
      "1             2269.0  ...                  17752         3.899673   \n",
      "2                5.0  ...                    295         3.989831   \n",
      "3              295.0  ...                  23832         4.020435   \n",
      "4                6.0  ...                  14482         4.001588   \n",
      "\n",
      "                merchant_id  merchant_has_profile_picture  \\\n",
      "0  595097d6a26f6e070cb878d1                             0   \n",
      "1  56458aa03a698c35c9050988                             0   \n",
      "2  5d464a1ffdf7bc44ee933c65                             0   \n",
      "3  58cfdefdacb37b556efdff7c                             0   \n",
      "4  5ab3b592c3911a095ad5dadb                             0   \n",
      "\n",
      "   merchant_profile_picture                                      product_url  \\\n",
      "0                       NaN  https://www.wish.com/c/5e9ae51d43d6a96e303acdb0   \n",
      "1                       NaN  https://www.wish.com/c/58940d436a0d3d5da4e95a38   \n",
      "2                       NaN  https://www.wish.com/c/5ea10e2c617580260d55310a   \n",
      "3                       NaN  https://www.wish.com/c/5cedf17ad1d44c52c59e4aca   \n",
      "4                       NaN  https://www.wish.com/c/5ebf5819ebac372b070b0e70   \n",
      "\n",
      "                                     product_picture  \\\n",
      "0  https://contestimg.wish.com/api/webimage/5e9ae...   \n",
      "1  https://contestimg.wish.com/api/webimage/58940...   \n",
      "2  https://contestimg.wish.com/api/webimage/5ea10...   \n",
      "3  https://contestimg.wish.com/api/webimage/5cedf...   \n",
      "4  https://contestimg.wish.com/api/webimage/5ebf5...   \n",
      "\n",
      "                 product_id   theme crawl_month  \n",
      "0  5e9ae51d43d6a96e303acdb0  summer     2020-08  \n",
      "1  58940d436a0d3d5da4e95a38  summer     2020-08  \n",
      "2  5ea10e2c617580260d55310a  summer     2020-08  \n",
      "3  5cedf17ad1d44c52c59e4aca  summer     2020-08  \n",
      "4  5ebf5819ebac372b070b0e70  summer     2020-08  \n",
      "\n",
      "[5 rows x 43 columns]\n"
     ]
    }
   ],
   "source": [
    "df = pd.read_csv(\"BTVN_3/dataset_3.csv\")\n",
    "print(df.head())"
   ]
  },
  {
   "cell_type": "code",
   "execution_count": null,
   "metadata": {},
   "outputs": [
    {
     "name": "stdout",
     "output_type": "stream",
     "text": [
      "1       SSHOUSE Summer Casual Sleeveless Soirée Party ...\n",
      "6       Women Fashion Loose Lace Blouse Blouse V Neck ...\n",
      "9       Femmes d'été, plus la taille décontractée lâch...\n",
      "17      2018 New Fashion Women's Tops Sexy Strappy Sle...\n",
      "18      Débardeur d'été 5 Couleurs Grandes Tailles été...\n",
      "                              ...                        \n",
      "1548    Robe d'été surdimensionnée pour dames Robe lon...\n",
      "1557    fr.delaval.nl : Nouvelle mode d'été pour femme...\n",
      "1558    Mode d'été pour dames Jumpsuit sans manches im...\n",
      "1560    Chemises d'été pour femmes Plus col en V sans ...\n",
      "1567    Combinaison sans manches pour femmes couleur u...\n",
      "Name: title, Length: 256, dtype: object\n"
     ]
    }
   ],
   "source": [
    "# Task 1\n",
    "print(df[(df[\"retail_price\"] * df[\"units_sold\"]) > 100000][\"title\"])"
   ]
  },
  {
   "cell_type": "code",
   "execution_count": null,
   "metadata": {},
   "outputs": [
    {
     "name": "stdout",
     "output_type": "stream",
     "text": [
      "4.34\n",
      "84      2018 Mode d'été Femmes Débardeurs Débardeurs F...\n",
      "1516    Femmes Grande Taille Monokini Gothic Black Sku...\n",
      "1497    Mode Ocean Wave Bague Argent et Or Rose Bague ...\n",
      "1152    FUERFITS - Women's Casual Beach - Summer Sleev...\n",
      "Name: title, dtype: object\n"
     ]
    }
   ],
   "source": [
    "# Task 2\n",
    "top_100_unit_sold = df.sort_values(by=\"units_sold\", ascending=False)[:100]\n",
    "rating_threshold = df['rating'].quantile(0.90)\n",
    "result = top_100_unit_sold[top_100_unit_sold['rating'] >= rating_threshold]z\n",
    "print(result['title'])\n"
   ]
  },
  {
   "cell_type": "code",
   "execution_count": null,
   "metadata": {},
   "outputs": [
    {
     "name": "stdout",
     "output_type": "stream",
     "text": [
      "0.8994636522147237\n"
     ]
    }
   ],
   "source": [
    "# Task 3\n",
    "correlation = df['rating_count'].corr(df['units_sold'])\n",
    "print(correlation)\n",
    "# Ta thấy hệ số tương quan giữa rating count và unit sold cao, nên có bằng chứng để kết luận là sản phẩm càng nhiều rating thì càng bán được nhiều sản phẩm"
   ]
  },
  {
   "cell_type": "code",
   "execution_count": 42,
   "metadata": {},
   "outputs": [
    {
     "name": "stdout",
     "output_type": "stream",
     "text": [
      "17      2018 New Fashion Women's Tops Sexy Strappy Sle...\n",
      "92      Femmes Camisole extensible Spaghetti Strap Lon...\n",
      "214     Nouveau Aeeival Femmes Vêtements À Manches Lon...\n",
      "251     T-shirt à manches courtes en mousseline de soi...\n",
      "1018    Femmes dentelle manches courtes hauts hauts ch...\n",
      "1168    Nouvelle arrivée femmes été sexy robe de soiré...\n",
      "6       Women Fashion Loose Lace Blouse Blouse V Neck ...\n",
      "40      Sexy Women Casual T-shirt rayé Long Tops Chemi...\n",
      "84      2018 Mode d'été Femmes Débardeurs Débardeurs F...\n",
      "333     Été Femme Chiffon Chiffon Couleur unie Col en ...\n",
      "381     Sexy Thong Cheeky Bottom Femmes Beachwear Brés...\n",
      "401     Femmes dentelle plage boho maxi robe d'été san...\n",
      "498     Fashion Women Back Deep V V Sexy Gilet sans do...\n",
      "510     Women Fashion Sexy Sleeveless Crop Cops en tri...\n",
      "790     Women's Fashion - Chemise sans manches à encol...\n",
      "875     Été Femmes Casual Sleeveless T-shirts sans man...\n",
      "893     Femmes sexy Boho à capuche moulante sans manch...\n",
      "952     Hot Dernières Sexy Bikini Sexy Bikini Femmes M...\n",
      "957     Sexy Womens manches courtes Party Party Evenin...\n",
      "1028    Maillots de bain à rayures pour dames avec dou...\n",
      "1185    Cristal paillettes bracelet de cheville ensemb...\n",
      "1188    Sexy Women Gilet d'été Top Sleeveless Blouse B...\n",
      "1466    Summer Women Sexy White Broderie Sexy White De...\n",
      "1       SSHOUSE Summer Casual Sleeveless Soirée Party ...\n",
      "14      2019 Summer Women's Fashion Nouvelle robe sans...\n",
      "18      Débardeur d'été 5 Couleurs Grandes Tailles été...\n",
      "21      Gilet d'été pour femmes Gilet de mode couleur ...\n",
      "27       Printemps/Été Mode Femme \"miel\" Lettre Imprim...\n",
      "87      Femmes 2019 Mode Bandage de mode 2019 Maillot ...\n",
      "89      NOUVELLE Robe d'été sans manches imprimée à fl...\n",
      "93      COMENII Femmes Tuniques d'été Tuniques Robes T...\n",
      "127     NOUVEAU Femmes Casual Débardeurs Blouses O-cou...\n",
      "137     Maillots de bain à rayures pour dames avec dou...\n",
      "141     Women Off Shoulder Chest Chest Wrapped Sexy Ch...\n",
      "144     Nouvelle mode femmes sans manches à carreaux D...\n",
      "149     Maillots de bain Femmes Triangle Bikini Set Ba...\n",
      "184     2018 Summer New Women Jupes Longues Jupes Soli...\n",
      "190     Robes de bohème de mode pour femmes Décoration...\n",
      "250     5 Couleurs Femmes Mode Shorts De Sport Couleur...\n",
      "256     Débardeur \" Je ne suis pas parfait mais je sui...\n",
      "268     Femmes Mode Mode Spaghetti Combinaisons à bret...\n",
      "271     Plus la taille 5XL été Sexy Hot Fashion femmes...\n",
      "277     2019 nouvelle mode femmes mince plus la taille...\n",
      "297     2019 Débardeur grande taille été 2019 pour fem...\n",
      "307     Women's Sleeveless Sleeveless Deep V-neckage P...\n",
      "347      Summer Students Style Bodycon Rompers Rompers...\n",
      "353     Femmes Dentelle Floral Blanc Longue Maxi Dress...\n",
      "369     Veste dos nu Veste dos nu Camisole décontracté...\n",
      "402     Women's Fashion Lace-up Solid Summer Shorts Da...\n",
      "431     2018 Plus Size Summer Women Fashion Fashion Se...\n",
      "Name: title, dtype: object\n"
     ]
    }
   ],
   "source": [
    "result = df[(df[\"rating\"] >= 3) & (df[\"rating\"] <= 4)]\n",
    "# top_50 = result.sort_values(by=\"rating\", ascending=False)[:50]\n",
    "top_50 = df.nlargest(50, \"units_sold\")\n",
    "print(top_50[\"title\"])"
   ]
  },
  {
   "cell_type": "code",
   "execution_count": 45,
   "metadata": {},
   "outputs": [
    {
     "name": "stdout",
     "output_type": "stream",
     "text": [
      "224\n"
     ]
    }
   ],
   "source": [
    "# Task 5: \n",
    "expensive_product = df[df[\"retail_price\"] > 50]\n",
    "\n",
    "print(len(expensive_product))"
   ]
  }
 ],
 "metadata": {
  "kernelspec": {
   "display_name": "venv",
   "language": "python",
   "name": "python3"
  },
  "language_info": {
   "codemirror_mode": {
    "name": "ipython",
    "version": 3
   },
   "file_extension": ".py",
   "mimetype": "text/x-python",
   "name": "python",
   "nbconvert_exporter": "python",
   "pygments_lexer": "ipython3",
   "version": "3.10.12"
  }
 },
 "nbformat": 4,
 "nbformat_minor": 2
}

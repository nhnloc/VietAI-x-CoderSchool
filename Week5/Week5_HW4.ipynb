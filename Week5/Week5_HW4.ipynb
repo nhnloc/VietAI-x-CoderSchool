{
 "cells": [
  {
   "cell_type": "code",
   "execution_count": 1,
   "metadata": {},
   "outputs": [],
   "source": [
    "import pandas as pd"
   ]
  },
  {
   "cell_type": "code",
   "execution_count": 4,
   "metadata": {},
   "outputs": [
    {
     "name": "stdout",
     "output_type": "stream",
     "text": [
      "Index(['Unnamed: 0', 'work_year', 'experience_level', 'employment_type',\n",
      "       'job_title', 'salary', 'salary_currency', 'salary_in_usd',\n",
      "       'employee_residence', 'remote_ratio', 'company_location',\n",
      "       'company_size'],\n",
      "      dtype='object')\n"
     ]
    }
   ],
   "source": [
    "df = pd.read_csv(\"ds_salaries.csv\")\n",
    "print(df.columns)"
   ]
  },
  {
   "cell_type": "code",
   "execution_count": null,
   "metadata": {},
   "outputs": [
    {
     "name": "stdout",
     "output_type": "stream",
     "text": [
      "Data Analytics Lead\n"
     ]
    }
   ],
   "source": [
    "# Task 1\n",
    "mean_salary = df.groupby(\"job_title\")[\"salary_in_usd\"].mean()\n",
    "print(mean_salary.idxmax())"
   ]
  },
  {
   "cell_type": "code",
   "execution_count": 16,
   "metadata": {},
   "outputs": [
    {
     "name": "stdout",
     "output_type": "stream",
     "text": [
      "MY\n"
     ]
    }
   ],
   "source": [
    "# Task 2:\n",
    "mean_salary_by_nationality = df.groupby(\"employee_residence\")[\"salary_in_usd\"].mean()\n",
    "print(mean_salary_by_nationality.idxmax())"
   ]
  },
  {
   "cell_type": "code",
   "execution_count": 24,
   "metadata": {},
   "outputs": [
    {
     "name": "stdout",
     "output_type": "stream",
     "text": [
      "Foreigner mean salary: 79366.84\n",
      "Domestic mean salary: 148955.9\n",
      "False\n"
     ]
    }
   ],
   "source": [
    "# Task 3:\n",
    "foreign_in_usa = df[(df['company_location'] == 'US') & (df['employee_residence'] != 'US')]\n",
    "domestic_in_usa = df[(df['company_location'] == 'US') & (df['employee_residence'] == 'US')]\n",
    "\n",
    "foreign_avg_salary = foreign_in_usa['salary_in_usd'].mean()\n",
    "domestic_avg_salary = domestic_in_usa['salary_in_usd'].mean()\n",
    "\n",
    "print(f\"Foreigner mean salary: {foreign_avg_salary}\")\n",
    "print(f\"Domestic mean salary: {domestic_avg_salary}\")\n",
    "print(foreign_avg_salary > domestic_avg_salary)\n",
    "# Nhân sự ngoại quốc không có mức lương trung bình cao hơn nhân sự trong nước"
   ]
  },
  {
   "cell_type": "code",
   "execution_count": 29,
   "metadata": {},
   "outputs": [
    {
     "name": "stdout",
     "output_type": "stream",
     "text": [
      "company_size\n",
      "S     51925.761905\n",
      "M    126380.753247\n",
      "Name: salary_in_usd, dtype: float64\n"
     ]
    }
   ],
   "source": [
    "# Task 4\n",
    "data_engineer_salary = df[df[\"job_title\"] == \"Data Scientist\"]\n",
    "data_engineer_salary_mean = data_engineer_salary.groupby(\"company_size\")[\"salary_in_usd\"].mean()\n",
    "print(data_engineer_salary_mean[[\"S\", \"M\"]])"
   ]
  },
  {
   "cell_type": "code",
   "execution_count": null,
   "metadata": {},
   "outputs": [
    {
     "name": "stdout",
     "output_type": "stream",
     "text": [
      "experience_level\n",
      "EN     55330.909091\n",
      "MI     82039.133333\n",
      "SE    152971.016393\n",
      "Name: salary_in_usd, dtype: float64\n"
     ]
    }
   ],
   "source": [
    "# Task 5\n",
    "data_engineer_salary_mean = data_engineer_salary.groupby(\"experience_level\")[\"salary_in_usd\"].mean()\n",
    "print(data_engineer_salary_mean)\n",
    "# SE có lương trung bình cao nhất, sau đó là MI và EN"
   ]
  },
  {
   "cell_type": "code",
   "execution_count": 33,
   "metadata": {},
   "outputs": [
    {
     "name": "stdout",
     "output_type": "stream",
     "text": [
      "7.042253521126761\n"
     ]
    }
   ],
   "source": [
    "employee_in_us = df[df[\"company_location\"] == \"US\"]\n",
    "foreigner_in_us = employee_in_us[employee_in_us[\"employee_residence\"] != \"US\"]\n",
    "foreigner_native_ratio = len(foreigner_in_us)*100/len(employee_in_us)\n",
    "print(foreigner_native_ratio)"
   ]
  },
  {
   "cell_type": "code",
   "execution_count": 41,
   "metadata": {},
   "outputs": [
    {
     "name": "stdout",
     "output_type": "stream",
     "text": [
      "job_title\n",
      "Financial Data Analyst                450000.0\n",
      "Applied Machine Learning Scientist    423000.0\n",
      "Data Science Manager                  200000.0\n",
      "Name: salary_in_usd, dtype: float64\n"
     ]
    }
   ],
   "source": [
    "level_MI = df[(df[\"experience_level\"] == \"MI\") & (df[\"employee_residence\"] == df[\"company_location\"])]\n",
    "\n",
    "mean_by_jobtitle = level_MI.groupby(\"job_title\")[\"salary_in_usd\"].mean()\n",
    "print(mean_by_jobtitle.nlargest(3))"
   ]
  },
  {
   "cell_type": "code",
   "execution_count": 43,
   "metadata": {},
   "outputs": [
    {
     "data": {
      "text/plain": [
       "job_title\n",
       "ML Engineer    15966.0\n",
       "Name: salary_in_usd, dtype: float64"
      ]
     },
     "execution_count": 43,
     "metadata": {},
     "output_type": "execute_result"
    }
   ],
   "source": [
    "germany_job = df[df[\"company_location\"] == \"DE\"]\n",
    "germany_salary_by_title = germany_job.groupby(\"job_title\")[\"salary_in_usd\"].mean()\n",
    "germany_salary_by_title.nsmallest(1)"
   ]
  },
  {
   "cell_type": "code",
   "execution_count": null,
   "metadata": {},
   "outputs": [],
   "source": []
  }
 ],
 "metadata": {
  "kernelspec": {
   "display_name": "venv",
   "language": "python",
   "name": "python3"
  },
  "language_info": {
   "codemirror_mode": {
    "name": "ipython",
    "version": 3
   },
   "file_extension": ".py",
   "mimetype": "text/x-python",
   "name": "python",
   "nbconvert_exporter": "python",
   "pygments_lexer": "ipython3",
   "version": "3.10.12"
  }
 },
 "nbformat": 4,
 "nbformat_minor": 2
}

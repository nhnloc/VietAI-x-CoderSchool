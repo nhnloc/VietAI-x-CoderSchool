{
 "cells": [
  {
   "cell_type": "code",
   "execution_count": 2,
   "metadata": {},
   "outputs": [],
   "source": [
    "import pandas as pd"
   ]
  },
  {
   "cell_type": "code",
   "execution_count": 68,
   "metadata": {},
   "outputs": [
    {
     "name": "stdout",
     "output_type": "stream",
     "text": [
      "Index(['Unnamed: 0', 'work_year', 'experience_level', 'employment_type',\n",
      "       'job_title', 'salary', 'salary_currency', 'salary_in_usd',\n",
      "       'employee_residence', 'remote_ratio', 'company_location',\n",
      "       'company_size'],\n",
      "      dtype='object')\n",
      "['L' 'S' 'M']\n"
     ]
    }
   ],
   "source": [
    "df = pd.read_csv(\"ds_salaries.csv\")\n",
    "print(df.columns)\n",
    "print(df['company_size'].unique())"
   ]
  },
  {
   "cell_type": "code",
   "execution_count": 4,
   "metadata": {},
   "outputs": [
    {
     "name": "stdout",
     "output_type": "stream",
     "text": [
      "Data Analytics Lead\n"
     ]
    }
   ],
   "source": [
    "# Task 1\n",
    "mean_salary = df.groupby(\"job_title\")[\"salary_in_usd\"].mean()\n",
    "print(mean_salary.idxmax())"
   ]
  },
  {
   "cell_type": "code",
   "execution_count": 5,
   "metadata": {},
   "outputs": [
    {
     "name": "stdout",
     "output_type": "stream",
     "text": [
      "MY\n"
     ]
    }
   ],
   "source": [
    "# Task 2:\n",
    "mean_salary_by_nationality = df.groupby(\"employee_residence\")[\"salary_in_usd\"].mean()\n",
    "print(mean_salary_by_nationality.idxmax())"
   ]
  },
  {
   "cell_type": "code",
   "execution_count": 6,
   "metadata": {},
   "outputs": [
    {
     "name": "stdout",
     "output_type": "stream",
     "text": [
      "Foreigner mean salary: 79366.84\n",
      "Domestic mean salary: 148955.9\n",
      "False\n"
     ]
    }
   ],
   "source": [
    "# Task 3:\n",
    "foreign_in_usa = df[(df['company_location'] == 'US') & (df['employee_residence'] != 'US')]\n",
    "domestic_in_usa = df[(df['company_location'] == 'US') & (df['employee_residence'] == 'US')]\n",
    "\n",
    "foreign_avg_salary = foreign_in_usa['salary_in_usd'].mean()\n",
    "domestic_avg_salary = domestic_in_usa['salary_in_usd'].mean()\n",
    "\n",
    "print(f\"Foreigner mean salary: {foreign_avg_salary}\")\n",
    "print(f\"Domestic mean salary: {domestic_avg_salary}\")\n",
    "print(foreign_avg_salary > domestic_avg_salary)\n",
    "# Nhân sự ngoại quốc không có mức lương trung bình cao hơn nhân sự trong nước"
   ]
  },
  {
   "cell_type": "code",
   "execution_count": 7,
   "metadata": {},
   "outputs": [
    {
     "name": "stdout",
     "output_type": "stream",
     "text": [
      "company_size\n",
      "S     51925.761905\n",
      "M    126380.753247\n",
      "Name: salary_in_usd, dtype: float64\n"
     ]
    }
   ],
   "source": [
    "# Task 4\n",
    "data_engineer_salary = df[df[\"job_title\"] == \"Data Scientist\"]\n",
    "data_engineer_salary_mean = data_engineer_salary.groupby(\"company_size\")[\"salary_in_usd\"].mean()\n",
    "print(data_engineer_salary_mean[[\"S\", \"M\"]])"
   ]
  },
  {
   "cell_type": "code",
   "execution_count": 8,
   "metadata": {},
   "outputs": [
    {
     "name": "stdout",
     "output_type": "stream",
     "text": [
      "experience_level\n",
      "EN     55330.909091\n",
      "MI     82039.133333\n",
      "SE    152971.016393\n",
      "Name: salary_in_usd, dtype: float64\n"
     ]
    }
   ],
   "source": [
    "# Task 5\n",
    "data_engineer_salary_mean = data_engineer_salary.groupby(\"experience_level\")[\"salary_in_usd\"].mean()\n",
    "print(data_engineer_salary_mean)\n",
    "# SE có lương trung bình cao nhất, sau đó là MI và EN"
   ]
  },
  {
   "cell_type": "code",
   "execution_count": 9,
   "metadata": {},
   "outputs": [
    {
     "name": "stdout",
     "output_type": "stream",
     "text": [
      "7.042253521126761\n"
     ]
    }
   ],
   "source": [
    "# Task 6\n",
    "employee_in_us = df[df[\"company_location\"] == \"US\"]\n",
    "foreigner_in_us = employee_in_us[employee_in_us[\"employee_residence\"] != \"US\"]\n",
    "foreigner_native_ratio = len(foreigner_in_us)*100/len(employee_in_us)\n",
    "print(foreigner_native_ratio)"
   ]
  },
  {
   "cell_type": "code",
   "execution_count": 10,
   "metadata": {},
   "outputs": [
    {
     "name": "stdout",
     "output_type": "stream",
     "text": [
      "job_title\n",
      "Financial Data Analyst                450000.0\n",
      "Applied Machine Learning Scientist    423000.0\n",
      "Data Science Manager                  200000.0\n",
      "Name: salary_in_usd, dtype: float64\n"
     ]
    }
   ],
   "source": [
    "# Task 7\n",
    "level_MI = df[(df[\"experience_level\"] == \"MI\") & (df[\"employee_residence\"] == df[\"company_location\"])]\n",
    "\n",
    "mean_by_jobtitle = level_MI.groupby(\"job_title\")[\"salary_in_usd\"].mean()\n",
    "print(mean_by_jobtitle.nlargest(3))"
   ]
  },
  {
   "cell_type": "code",
   "execution_count": 11,
   "metadata": {},
   "outputs": [
    {
     "data": {
      "text/plain": [
       "job_title\n",
       "ML Engineer    15966.0\n",
       "Name: salary_in_usd, dtype: float64"
      ]
     },
     "execution_count": 11,
     "metadata": {},
     "output_type": "execute_result"
    }
   ],
   "source": [
    "# Task 8\n",
    "germany_job = df[df[\"company_location\"] == \"DE\"]\n",
    "germany_salary_by_title = germany_job.groupby(\"job_title\")[\"salary_in_usd\"].mean()\n",
    "germany_salary_by_title.nsmallest(1)"
   ]
  },
  {
   "cell_type": "code",
   "execution_count": 20,
   "metadata": {},
   "outputs": [
    {
     "name": "stdout",
     "output_type": "stream",
     "text": [
      "Machine Learning Developer\n"
     ]
    }
   ],
   "source": [
    "# Task 9\n",
    "se_data = df[df[\"experience_level\"] == \"SE\"]\n",
    "mi_data = df[df[\"experience_level\"] == \"MI\"]\n",
    "\n",
    "mean_se_data = se_data.groupby(\"job_title\")[\"salary_in_usd\"].mean()\n",
    "mean_mi_data = mi_data.groupby(\"job_title\")[\"salary_in_usd\"].mean()\n",
    "\n",
    "\n",
    "difference = abs(mean_se_data - mean_mi_data)\n",
    "\n",
    "print(difference.idxmin())"
   ]
  },
  {
   "cell_type": "code",
   "execution_count": null,
   "metadata": {},
   "outputs": [
    {
     "name": "stdout",
     "output_type": "stream",
     "text": [
      "Index([], dtype='object', name='job_title')\n"
     ]
    }
   ],
   "source": [
    "# Task 10\n",
    "mean_salary_by_job_level = df.groupby(['job_title', 'experience_level'])['salary_in_usd'].mean().reset_index()\n",
    "mean_salary_by_job_level[\"rank\"] = mean_salary_by_job_level.groupby('experience_level')['salary_in_usd'].rank(ascending=False)\n",
    "top_5_jobs = mean_salary_by_job_level[mean_salary_by_job_level[\"rank\"] <= 5]\n",
    "job_title_counts = top_5_jobs['job_title'].value_counts()\n",
    "\n",
    "all_levels = df['experience_level'].nunique() \n",
    "consistent_top_jobs = job_title_counts[job_title_counts == all_levels].index\n",
    "print(consistent_top_jobs)\n",
    "# Không có job nào nằm trong top 5 ở tất cả các level"
   ]
  },
  {
   "cell_type": "code",
   "execution_count": 70,
   "metadata": {},
   "outputs": [
    {
     "name": "stdout",
     "output_type": "stream",
     "text": [
      "Applied Data Scientist\n"
     ]
    }
   ],
   "source": [
    "# Task 11\n",
    "company_s_m = df[(df['company_size'] == 'S') | (df['company_size'] == 'M')]\n",
    "\n",
    "en_data = company_s_m[(company_s_m[\"experience_level\"] == \"EN\")]\n",
    "ex_data = company_s_m[(company_s_m[\"experience_level\"] == \"EX\")]\n",
    "\n",
    "mean_se_data = se_data.groupby(\"job_title\")[\"salary_in_usd\"].mean()\n",
    "mean_mi_data = mi_data.groupby(\"job_title\")[\"salary_in_usd\"].mean()\n",
    "\n",
    "\n",
    "difference = abs(mean_se_data - mean_mi_data)\n",
    "\n",
    "print(difference.idxmax())"
   ]
  },
  {
   "cell_type": "code",
   "execution_count": null,
   "metadata": {},
   "outputs": [
    {
     "name": "stdout",
     "output_type": "stream",
     "text": [
      "PL\n"
     ]
    }
   ],
   "source": [
    "# Task 12\n",
    "foreign_employee = df[df[\"employee_residence\"] != df[\"company_location\"]]\n",
    "mean_salary_by_country = foreign_employee.groupby('company_location')['salary_in_usd'].mean()\n",
    "print(mean_salary_by_country.idxmax())"
   ]
  },
  {
   "cell_type": "code",
   "execution_count": null,
   "metadata": {},
   "outputs": [
    {
     "name": "stdout",
     "output_type": "stream",
     "text": [
      "experience_level  company_size\n",
      "EN                L                72813.241379\n",
      "                  M                50321.800000\n",
      "                  S                62185.310345\n",
      "EX                L               221942.181818\n",
      "                  M               178241.750000\n",
      "                  S               201309.333333\n",
      "MI                L                98030.372093\n",
      "                  M                90091.081633\n",
      "                  S                51159.379310\n",
      "SE                L               147591.013889\n",
      "                  M               137815.596774\n",
      "                  S               116026.727273\n",
      "Name: salary_in_usd, dtype: float64\n"
     ]
    },
    {
     "data": {
      "image/png": "[encoded data removed]",
      "text/plain": [
       "<Figure size 1200x600 with 1 Axes>"
      ]
     },
     "metadata": {},
     "output_type": "display_data"
    }
   ],
   "source": [
    "# Task 13\n",
    "import matplotlib.pyplot as plt\n",
    "import seaborn as sns\n",
    "\n",
    "mean_salary_by_experience = df.groupby(['experience_level', 'company_size'])['salary_in_usd'].mean()\n",
    "print(mean_salary_by_experience)\n",
    "plt.figure(figsize=(12, 6))\n",
    "sns.barplot(x='experience_level', y='salary_in_usd', hue='company_size', data=df)\n",
    "plt.title('Average salary by experience level and company size')\n",
    "plt.ylabel('Salary in USD')\n",
    "plt.xlabel('Experience Level')\n",
    "plt.legend(title='Company size')\n",
    "plt.xticks(rotation=45)\n",
    "plt.tight_layout()\n",
    "plt.show()\n",
    "\n",
    "# Khẳng định này đúng với experience level MI và SE. Với EN và EX thì công ty quy mô S có lương trung bình cao hơn công ty quy mô M "
   ]
  },
  {
   "cell_type": "code",
   "execution_count": null,
   "metadata": {},
   "outputs": [
    {
     "data": {
      "text/plain": [
       "job_title\n",
       "Data Analytics Lead                         405000.000000\n",
       "Principal Data Engineer                     328333.333333\n",
       "Financial Data Analyst                      275000.000000\n",
       "Principal Data Scientist                    215242.428571\n",
       "Director of Data Science                    195074.000000\n",
       "Data Architect                              177873.909091\n",
       "Applied Data Scientist                      175655.000000\n",
       "Analytics Engineer                          175000.000000\n",
       "Data Specialist                             165000.000000\n",
       "Head of Data                                160162.600000\n",
       "Machine Learning Scientist                  158412.500000\n",
       "Data Science Manager                        158328.500000\n",
       "Director of Data Engineering                156738.000000\n",
       "Head of Data Science                        146718.750000\n",
       "Applied Machine Learning Scientist          142068.750000\n",
       "Lead Data Engineer                          139724.500000\n",
       "Data Analytics Manager                      127134.285714\n",
       "Cloud Data Engineer                         124647.000000\n",
       "Data Engineering Manager                    123227.200000\n",
       "Principal Data Analyst                      122500.000000\n",
       "ML Engineer                                 117504.000000\n",
       "Machine Learning Manager                    117104.000000\n",
       "Lead Data Scientist                         115190.000000\n",
       "Data Engineer                               112725.000000\n",
       "Research Scientist                          109019.500000\n",
       "Data Scientist                              108187.832168\n",
       "Computer Vision Software Engineer           105248.666667\n",
       "Staff Data Scientist                        105000.000000\n",
       "Machine Learning Engineer                   104880.146341\n",
       "Machine Learning Infrastructure Engineer    101145.000000\n",
       "Big Data Architect                           99703.000000\n",
       "Data Analyst                                 92893.061856\n",
       "Lead Data Analyst                            92203.000000\n",
       "Marketing Data Analyst                       88654.000000\n",
       "Lead Machine Learning Engineer               87932.000000\n",
       "Machine Learning Developer                   85860.666667\n",
       "Head of Machine Learning                     79039.000000\n",
       "Business Data Analyst                        76691.200000\n",
       "Data Science Engineer                        75803.333333\n",
       "BI Data Analyst                              74755.166667\n",
       "Data Science Consultant                      69420.714286\n",
       "AI Scientist                                 66135.571429\n",
       "Data Analytics Engineer                      64799.250000\n",
       "Finance Data Analyst                         61896.000000\n",
       "ETL Developer                                54957.000000\n",
       "Big Data Engineer                            51974.000000\n",
       "Computer Vision Engineer                     44419.333333\n",
       "NLP Engineer                                 37236.000000\n",
       "Product Data Analyst                         13036.000000\n",
       "3D Computer Vision Researcher                 5409.000000\n",
       "Name: salary_in_usd, dtype: float64"
      ]
     },
     "execution_count": 81,
     "metadata": {},
     "output_type": "execute_result"
    }
   ],
   "source": [
    "# Task 14\n",
    "mean_salary_by_job_title = df.groupby('job_title')['salary_in_usd'].mean()\n",
    "mean_salary_by_job_title.sort_values(ascending=False)"
   ]
  },
  {
   "cell_type": "code",
   "execution_count": 94,
   "metadata": {},
   "outputs": [
    {
     "name": "stdout",
     "output_type": "stream",
     "text": [
      "                             job_title\n",
      "1                         AI Scientist\n",
      "3                    Big Data Engineer\n",
      "13            Computer Vision Engineer\n",
      "16   Computer Vision Software Engineer\n",
      "17             Data Analytics Engineer\n",
      "19                       Data Engineer\n",
      "49            Data Engineering Manager\n",
      "50               Data Science Engineer\n",
      "53                      Data Scientist\n",
      "281                       Head of Data\n",
      "292          Machine Learning Engineer\n",
      "370         Machine Learning Scientist\n",
      "374                 Research Scientist\n"
     ]
    }
   ],
   "source": [
    "# Task 15\n",
    "mean_salary_by_job_company_location = df.groupby(['job_title', 'company_location'])['salary_in_usd'].mean().reset_index()\n",
    "\n",
    "mean_salary_by_job_company_location['rank'] = mean_salary_by_job_company_location.groupby('company_location')['salary_in_usd'].rank(ascending=False)\n",
    "\n",
    "highest_income_jobs = mean_salary_by_job_company_location[mean_salary_by_job_company_location['rank'] == 1]\n",
    "\n",
    "lowest_income_jobs = mean_salary_by_job_company_location[mean_salary_by_job_company_location['rank'] >= mean_salary_by_job_company_location.groupby('company_location')['rank'].transform('max') - 2]\n",
    "\n",
    "result = pd.merge(highest_income_jobs, lowest_income_jobs, on='job_title', suffixes=('_highest', '_lowest'))\n",
    "result = result[result['company_location_highest'] != result['company_location_lowest']]\n",
    "unique_result = result.drop_duplicates(subset=['job_title'])\n",
    "print(unique_result[['job_title']])"
   ]
  }
 ],
 "metadata": {
  "kernelspec": {
   "display_name": "venv",
   "language": "python",
   "name": "python3"
  },
  "language_info": {
   "codemirror_mode": {
    "name": "ipython",
    "version": 3
   },
   "file_extension": ".py",
   "mimetype": "text/x-python",
   "name": "python",
   "nbconvert_exporter": "python",
   "pygments_lexer": "ipython3",
   "version": "3.10.12"
  }
 },
 "nbformat": 4,
 "nbformat_minor": 2
}

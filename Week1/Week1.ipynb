{
 "cells": [
  {
   "cell_type": "markdown",
   "id": "444d4cd3",
   "metadata": {},
   "source": [
    "# Exercise 1"
   ]
  },
  {
   "cell_type": "code",
   "execution_count": 52,
   "id": "8a825a5a",
   "metadata": {},
   "outputs": [
    {
     "name": "stdout",
     "output_type": "stream",
     "text": [
      "The number of positive number is 5\n",
      "The number of negative number is 7\n"
     ]
    }
   ],
   "source": [
    "# Ex1: Write a program to count positive and negative numbers in a list\n",
    "data1 = [-10, -21, -4, -45, -66, 93, 11, -4, -6, 12, 11, 4]\n",
    "import numpy as np\n",
    "temp_data = np.array(data1)\n",
    "count_pos = sum(temp_data>0)\n",
    "count_nev = len(temp_data) - count_pos\n",
    "print(f\"The number of positive number is {count_pos}\")\n",
    "print(f\"The number of negative number is {count_nev}\")"
   ]
  },
  {
   "cell_type": "markdown",
   "id": "5efd9f6c",
   "metadata": {},
   "source": [
    "# Exercise 2"
   ]
  },
  {
   "cell_type": "code",
   "execution_count": 53,
   "id": "55f64f91",
   "metadata": {},
   "outputs": [
    {
     "name": "stdout",
     "output_type": "stream",
     "text": [
      "Elements whose frequency is greater than 3 are [4, 3]\n"
     ]
    }
   ],
   "source": [
    "# Ex2: Given a list, extract all elements whose frequency is greater than k.\n",
    "data2 = [4, 6, 4, 3, 3, 4, 3, 4, 3, 8]\n",
    "k = 3\n",
    "# temp_data = np.array([])\n",
    "temp_data = dict()\n",
    "for data in data2:\n",
    "    if data not in temp_data:\n",
    "        temp_data[data] = 1\n",
    "    else:\n",
    "        temp_data[data] += 1\n",
    "\n",
    "my_dict = {key: val for key, val in temp_data.items() if val > k}\n",
    "\n",
    "print(f\"Elements whose frequency is greater than {k} are {list(my_dict.keys())}\")\n",
    "    \n",
    "    "
   ]
  },
  {
   "cell_type": "markdown",
   "id": "809e604f",
   "metadata": {},
   "source": [
    "# Exercise 3"
   ]
  },
  {
   "cell_type": "code",
   "execution_count": 54,
   "id": "261fb4ca",
   "metadata": {},
   "outputs": [
    {
     "name": "stdout",
     "output_type": "stream",
     "text": [
      "Maximum for every adjacent pairs: [6, 7, 6, 9, 11, 9, 11]\n"
     ]
    }
   ],
   "source": [
    "# Ex3: find the strongest neighbour. Given an array of N positive integers.\n",
    "# The task is to find the maximum for every adjacent pair in the array.\n",
    "data3 = [4, 5, 6, 7, 3, 9, 11, 2, 10]\n",
    "\n",
    "temp_data = []\n",
    "for i in range(1, len(data3)-1):\n",
    "    temp_data.append(max(data3[i-1], data3[i+1]))\n",
    "\n",
    "print(f\"Maximum for every adjacent pairs: {temp_data}\")"
   ]
  },
  {
   "cell_type": "markdown",
   "id": "0f6d44b6",
   "metadata": {},
   "source": [
    "# Exercise 4"
   ]
  },
  {
   "cell_type": "code",
   "execution_count": 55,
   "id": "bd4592e2",
   "metadata": {},
   "outputs": [
    {
     "name": "stdout",
     "output_type": "stream",
     "text": [
      "The 1 combination of [1, 2, 3] is [1, 2, 3]\n",
      "The 2 combination of [1, 2, 3] is [[1, 2], [1, 3], [2, 3]]\n",
      "The 3 combination of [1, 2, 3] is [[1, 2, 3]]\n"
     ]
    }
   ],
   "source": [
    "# Ex4: print all Possible Combinations from the three Digits\n",
    "data4 = [1, 2, 3]\n",
    "# for i in range(len(data4))+1:\n",
    "#     for j in range(len)\n",
    "def combinations(n, k):\n",
    "    combin = []\n",
    "\n",
    "    if (k == 1):\n",
    "        return n \n",
    "\n",
    "    for i in range(len(n)): \n",
    "        head = n[i:i+1]\n",
    "\n",
    "        tail = combinations(n[i+1:],k-1)\n",
    "\n",
    "        for j in range(len(tail)):\n",
    "            if (type(tail[j]) == int):\n",
    "                combo = head + [tail[j]]\n",
    "            else:\n",
    "                combo = head + tail[j]\n",
    "            combin.append(combo)\n",
    "    \n",
    "    return combin\n",
    "\n",
    "for i in range(1, len(data4)+1):\n",
    "    print(f'The {i} combination of {data4} is {combinations(data4, i)}')\n"
   ]
  },
  {
   "cell_type": "markdown",
   "id": "50470ca9",
   "metadata": {},
   "source": [
    "# Exercise 5"
   ]
  },
  {
   "cell_type": "code",
   "execution_count": 56,
   "id": "18ff641f",
   "metadata": {},
   "outputs": [
    {
     "name": "stdout",
     "output_type": "stream",
     "text": [
      "Output: [[4, 3, 5, 1, 3], [1, 2, 3, 9, 3, 5, 7], [3, 7, 4, 8]]\n"
     ]
    }
   ],
   "source": [
    "# Ex5: Given two matrices (2 nested lists), the task is to write a Python program\n",
    "# to add elements to each row from initial matrix.\n",
    "# For example: Input : test_list1 = [[4, 3, 5,], [1, 2, 3], [3, 7, 4]], test_list2 = [[1], [9], [8]]\n",
    "# Output : [[4, 3, 5, 1], [1, 2, 3, 9], [3, 7, 4, 8]]\n",
    "data5_list1 = [[4, 3, 5, ], [1, 2, 3], [3, 7, 4]]\n",
    "data5_list2 = [[1, 3], [9, 3, 5, 7], [8]]\n",
    "\n",
    "for i in range(len(data5_list1)):\n",
    "    data5_list1[i].extend(data5_list2[i])\n",
    "\n",
    "print(f\"Output: {data5_list1}\")"
   ]
  },
  {
   "cell_type": "markdown",
   "id": "cfa5c314",
   "metadata": {},
   "source": [
    "# Exercise 6"
   ]
  },
  {
   "cell_type": "code",
   "execution_count": 57,
   "id": "3148bbe9",
   "metadata": {},
   "outputs": [
    {
     "name": "stdout",
     "output_type": "stream",
     "text": [
      "2002, 2009, 2016, 2023, 2037, 2044, 2051, 2058, 2072, 2079, 2086, 2093, 2107, 2114, 2121, 2128, 2142, 2149, 2156, 2163, 2177, 2184, 2191, 2198, 2212, 2219, 2226, 2233, 2247, 2254, 2261, 2268, 2282, 2289, 2296, 2303, 2317, 2324, 2331, 2338, 2352, 2359, 2366, 2373, 2387, 2394, 2401, 2408, 2422, 2429, 2436, 2443, 2457, 2464, 2471, 2478, 2492, 2499, 2506, 2513, 2527, 2534, 2541, 2548, 2562, 2569, 2576, 2583, 2597, 2604, 2611, 2618, 2632, 2639, 2646, 2653, 2667, 2674, 2681, 2688, 2702, 2709, 2716, 2723, 2737, 2744, 2751, 2758, 2772, 2779, 2786, 2793, 2807, 2814, 2821, 2828, 2842, 2849, 2856, 2863, 2877, 2884, 2891, 2898, 2912, 2919, 2926, 2933, 2947, 2954, 2961, 2968, 2982, 2989, 2996, 3003, 3017, 3024, 3031, 3038, 3052, 3059, 3066, 3073, 3087, 3094, 3101, 3108, 3122, 3129, 3136, 3143, 3157, 3164, 3171, 3178, 3192, 3199\n"
     ]
    }
   ],
   "source": [
    "# Ex6:  Write a program which will find all such numbers which are divisible by 7\n",
    "# but are not a multiple of 5, between 2000 and 3200 (both included).\n",
    "# The numbers obtained should be printed in a comma-separated sequence on a single line.\n",
    "result = list(filter(lambda x:  not (x % 7) and x % 5, range(2000, 3201)))\n",
    "print(', '.join(map(str, result)))"
   ]
  },
  {
   "cell_type": "markdown",
   "id": "b896526c",
   "metadata": {},
   "source": [
    "# Exercise 7"
   ]
  },
  {
   "cell_type": "code",
   "execution_count": 58,
   "id": "3fd31ee6",
   "metadata": {},
   "outputs": [
    {
     "name": "stdout",
     "output_type": "stream",
     "text": [
      "2000, 2002, 2004, 2006, 2008, 2020, 2022, 2024, 2026, 2028, 2040, 2042, 2044, 2046, 2048, 2060, 2062, 2064, 2066, 2068, 2080, 2082, 2084, 2086, 2088, 2200, 2202, 2204, 2206, 2208, 2220, 2222, 2224, 2226, 2228, 2240, 2242, 2244, 2246, 2248, 2260, 2262, 2264, 2266, 2268, 2280, 2282, 2284, 2286, 2288, 2400, 2402, 2404, 2406, 2408, 2420, 2422, 2424, 2426, 2428, 2440, 2442, 2444, 2446, 2448, 2460, 2462, 2464, 2466, 2468, 2480, 2482, 2484, 2486, 2488, 2600, 2602, 2604, 2606, 2608, 2620, 2622, 2624, 2626, 2628, 2640, 2642, 2644, 2646, 2648, 2660, 2662, 2664, 2666, 2668, 2680, 2682, 2684, 2686, 2688, 2800, 2802, 2804, 2806, 2808, 2820, 2822, 2824, 2826, 2828, 2840, 2842, 2844, 2846, 2848, 2860, 2862, 2864, 2866, 2868, 2880, 2882, 2884, 2886, 2888\n"
     ]
    }
   ],
   "source": [
    "# Ex7: Write a program, which will find all such numbers between 1000 and 3000 (both included) such that each digit of the number is an even number.\n",
    "# The numbers obtained should be printed in a comma-separated sequence on a single line.\n",
    "def is_even(number):\n",
    "    if not number:\n",
    "        return True\n",
    "    if not number%2:\n",
    "        return is_even(number//10)\n",
    "    return False\n",
    "\n",
    "result = list(filter(lambda x: is_even(x), range(1000, 3001)))\n",
    "\n",
    "print(', '.join(map(str, result)))"
   ]
  },
  {
   "cell_type": "markdown",
   "id": "c8846efd",
   "metadata": {},
   "source": [
    "# Exercise 8"
   ]
  },
  {
   "cell_type": "code",
   "execution_count": 59,
   "id": "a8c0011d",
   "metadata": {},
   "outputs": [
    {
     "name": "stdout",
     "output_type": "stream",
     "text": [
      "The shortest chain is:\n",
      "pen\n",
      "enclasp\n",
      "spa\n",
      "paper\n"
     ]
    }
   ],
   "source": [
    "# Ex8: Let user type 2 words in English as input. Print out the output\n",
    "# which is the shortest chain according to the following rules:\n",
    "# - Each word in the chain has at least 3 letters\n",
    "# - The 2 input words from user will be used as the first and the last words of the chain\n",
    "# - 2 last letters of 1 word will be the same as 2 first letters of the next word in the chain\n",
    "# - All the words are from the file wordsEn.txt\n",
    "# - If there are multiple shortest chains, return any of them is sufficient\n",
    "from collections import deque, defaultdict\n",
    "\n",
    "class Node:\n",
    "    def __init__(self, data):\n",
    "        self.data = data\n",
    "        self.prev = None\n",
    "\n",
    "\n",
    "start_word = \"paper\"\n",
    "end_word = \"pen\"\n",
    "\n",
    "class BFS:\n",
    "    def __init__(self):\n",
    "        with open(\"wordsEn.txt\", \"r\") as file:\n",
    "            word_list = [line.strip() for line in file if len(line.strip()) >= 3]\n",
    "\n",
    "        self.word_dict = defaultdict(list)\n",
    "        for word in word_list:\n",
    "            self.word_dict[word[:2]].append(word)\n",
    "\n",
    "    def start_search(self, start_word, end_word):\n",
    "        current_node = Node(start_word)\n",
    "        visited = set()  \n",
    "        queue = deque([current_node])\n",
    "        visited.add(start_word)    \n",
    "        current_node = Node(start_word)\n",
    "        visited = set()  \n",
    "        queue = deque([current_node])\n",
    "        visited.add(start_word)\n",
    "\n",
    "        while queue:\n",
    "            current_node = queue.popleft()\n",
    "            if current_node.data == end_word:\n",
    "                break\n",
    "            \n",
    "            last_two = current_node.data[-2:]  \n",
    "            for word in self.word_dict.get(last_two, []):\n",
    "                if word not in visited:  \n",
    "                    new_node = Node(word)\n",
    "                    new_node.prev = current_node\n",
    "                    queue.append(new_node)\n",
    "                    visited.add(word) \n",
    "\n",
    "        result = []\n",
    "        while current_node:\n",
    "            result.append(current_node.data)\n",
    "            current_node = current_node.prev\n",
    "\n",
    "        print(\"The shortest chain is:\")\n",
    "        for word in reversed(result):\n",
    "            print(word)\n",
    "\n",
    "bfs = BFS()\n",
    "start_word = input(\"Please enter the start word: \")\n",
    "end_word = input(\"Please enter the end word: \")\n",
    "bfs.start_search(start_word, end_word)\n"
   ]
  },
  {
   "cell_type": "code",
   "execution_count": null,
   "id": "33d891ff",
   "metadata": {},
   "outputs": [],
   "source": []
  }
 ],
 "metadata": {
  "kernelspec": {
   "display_name": "venv",
   "language": "python",
   "name": "python3"
  },
  "language_info": {
   "codemirror_mode": {
    "name": "ipython",
    "version": 3
   },
   "file_extension": ".py",
   "mimetype": "text/x-python",
   "name": "python",
   "nbconvert_exporter": "python",
   "pygments_lexer": "ipython3",
   "version": "3.10.12"
  }
 },
 "nbformat": 4,
 "nbformat_minor": 5
}
